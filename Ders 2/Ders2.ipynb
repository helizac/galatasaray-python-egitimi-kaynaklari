{
 "cells": [
  {
   "cell_type": "markdown",
   "id": "60ea54b4",
   "metadata": {},
   "source": [
    "# String'ler"
   ]
  },
  {
   "cell_type": "markdown",
   "id": "87777daa",
   "metadata": {},
   "source": [
    "Jupyter Notebook'larda, her bir bloğun son satırındaki yalnız değişkenler print yazılmasa bile bastırılır. Bu sebeple ders notlarında print() olmadan çıktıları görebilmekteyiz.\n",
    "\n",
    "Bu durum IDE'den IDE'ye değişmektedir.\n"
   ]
  },
  {
   "cell_type": "code",
   "execution_count": 44,
   "id": "dce6bd6d",
   "metadata": {
    "ExecuteTime": {
     "end_time": "2022-12-10T16:37:54.867664Z",
     "start_time": "2022-12-10T16:37:54.848831Z"
    }
   },
   "outputs": [],
   "source": [
    "title = \"Python Eğitimi\""
   ]
  },
  {
   "cell_type": "code",
   "execution_count": 5,
   "id": "39fd8f3c",
   "metadata": {
    "ExecuteTime": {
     "end_time": "2022-12-10T14:59:25.668031Z",
     "start_time": "2022-12-10T14:59:25.657971Z"
    }
   },
   "outputs": [
    {
     "name": "stdout",
     "output_type": "stream",
     "text": [
      "P\n",
      "i\n"
     ]
    }
   ],
   "source": [
    "print(title[0])\n",
    "print(title[-1])"
   ]
  },
  {
   "cell_type": "code",
   "execution_count": 6,
   "id": "034befb8",
   "metadata": {
    "ExecuteTime": {
     "end_time": "2022-12-10T14:59:32.890735Z",
     "start_time": "2022-12-10T14:59:32.873394Z"
    }
   },
   "outputs": [
    {
     "data": {
      "text/plain": [
       "14"
      ]
     },
     "execution_count": 6,
     "metadata": {},
     "output_type": "execute_result"
    }
   ],
   "source": [
    "len(title)"
   ]
  },
  {
   "cell_type": "code",
   "execution_count": 32,
   "id": "4ce50360",
   "metadata": {
    "ExecuteTime": {
     "end_time": "2022-12-10T15:18:09.601881Z",
     "start_time": "2022-12-10T15:18:09.584918Z"
    }
   },
   "outputs": [
    {
     "name": "stdout",
     "output_type": "stream",
     "text": [
      "P\n",
      "y\n",
      "t\n",
      "h\n",
      "o\n",
      "n\n",
      " \n",
      "E\n",
      "ğ\n",
      "i\n",
      "t\n",
      "i\n",
      "m\n",
      "i\n"
     ]
    }
   ],
   "source": [
    "for i in range(len(title)):\n",
    "    print(title[i])"
   ]
  },
  {
   "cell_type": "code",
   "execution_count": 45,
   "id": "b2955178",
   "metadata": {
    "ExecuteTime": {
     "end_time": "2022-12-10T16:39:00.535926Z",
     "start_time": "2022-12-10T16:39:00.528930Z"
    }
   },
   "outputs": [],
   "source": [
    "_str = \"telefon\"\n",
    "_str[:]"
   ]
  },
  {
   "cell_type": "code",
   "execution_count": 46,
   "id": "6acebe72",
   "metadata": {
    "ExecuteTime": {
     "end_time": "2022-12-10T16:40:40.252878Z",
     "start_time": "2022-12-10T16:40:40.244367Z"
    }
   },
   "outputs": [
    {
     "data": {
      "text/plain": [
       "'elefo'"
      ]
     },
     "execution_count": 46,
     "metadata": {},
     "output_type": "execute_result"
    }
   ],
   "source": [
    "_str[1:-1]"
   ]
  },
  {
   "cell_type": "code",
   "execution_count": 47,
   "id": "31c78fbd",
   "metadata": {
    "ExecuteTime": {
     "end_time": "2022-12-10T16:41:38.189133Z",
     "start_time": "2022-12-10T16:41:38.175403Z"
    },
    "scrolled": false
   },
   "outputs": [
    {
     "data": {
      "text/plain": [
       "'eeo'"
      ]
     },
     "execution_count": 47,
     "metadata": {},
     "output_type": "execute_result"
    }
   ],
   "source": [
    "_str[1:-1:2]"
   ]
  },
  {
   "cell_type": "code",
   "execution_count": 12,
   "id": "6f82d85f",
   "metadata": {
    "ExecuteTime": {
     "end_time": "2022-12-10T15:06:01.683710Z",
     "start_time": "2022-12-10T15:06:01.666714Z"
    }
   },
   "outputs": [
    {
     "data": {
      "text/plain": [
       "'elefon'"
      ]
     },
     "execution_count": 12,
     "metadata": {},
     "output_type": "execute_result"
    }
   ],
   "source": [
    "_str[1:]"
   ]
  },
  {
   "cell_type": "code",
   "execution_count": 13,
   "id": "788f55cd",
   "metadata": {
    "ExecuteTime": {
     "end_time": "2022-12-10T15:06:08.454272Z",
     "start_time": "2022-12-10T15:06:08.447270Z"
    }
   },
   "outputs": [
    {
     "data": {
      "text/plain": [
       "'telefo'"
      ]
     },
     "execution_count": 13,
     "metadata": {},
     "output_type": "execute_result"
    }
   ],
   "source": [
    "_str[:-1]"
   ]
  },
  {
   "cell_type": "code",
   "execution_count": 14,
   "id": "9907411e",
   "metadata": {
    "ExecuteTime": {
     "end_time": "2022-12-10T15:06:25.775495Z",
     "start_time": "2022-12-10T15:06:25.759523Z"
    }
   },
   "outputs": [
    {
     "data": {
      "text/plain": [
       "'nofelet'"
      ]
     },
     "execution_count": 14,
     "metadata": {},
     "output_type": "execute_result"
    }
   ],
   "source": [
    "_str[::-1]"
   ]
  },
  {
   "cell_type": "code",
   "execution_count": 16,
   "id": "d33ea27a",
   "metadata": {
    "ExecuteTime": {
     "end_time": "2022-12-10T15:08:00.042064Z",
     "start_time": "2022-12-10T15:08:00.019091Z"
    }
   },
   "outputs": [
    {
     "ename": "TypeError",
     "evalue": "'str' object does not support item assignment",
     "output_type": "error",
     "traceback": [
      "\u001b[1;31m---------------------------------------------------------------------------\u001b[0m",
      "\u001b[1;31mTypeError\u001b[0m                                 Traceback (most recent call last)",
      "Input \u001b[1;32mIn [16]\u001b[0m, in \u001b[0;36m<cell line: 4>\u001b[1;34m()\u001b[0m\n\u001b[0;32m      1\u001b[0m \u001b[38;5;66;03m# String'ler parçalanamazlar, bu sebeple aşağıdaki kod bloğu hata verecektir\u001b[39;00m\n\u001b[0;32m      3\u001b[0m a \u001b[38;5;241m=\u001b[39m \u001b[38;5;124m\"\u001b[39m\u001b[38;5;124mhello\u001b[39m\u001b[38;5;124m\"\u001b[39m\n\u001b[1;32m----> 4\u001b[0m a[\u001b[38;5;241m0\u001b[39m] \u001b[38;5;241m=\u001b[39m \u001b[38;5;124m\"\u001b[39m\u001b[38;5;124mb\u001b[39m\u001b[38;5;124m\"\u001b[39m\n\u001b[0;32m      5\u001b[0m a\n",
      "\u001b[1;31mTypeError\u001b[0m: 'str' object does not support item assignment"
     ]
    }
   ],
   "source": [
    "# String'ler parçalanamazlar, bu sebeple aşağıdaki kod bloğu hata verecektir\n",
    "\n",
    "a = \"hello\"\n",
    "a[0] = \"b\"\n",
    "a"
   ]
  },
  {
   "cell_type": "code",
   "execution_count": 18,
   "id": "72cf7309",
   "metadata": {
    "ExecuteTime": {
     "end_time": "2022-12-10T15:08:28.660529Z",
     "start_time": "2022-12-10T15:08:28.649525Z"
    }
   },
   "outputs": [
    {
     "data": {
      "text/plain": [
       "'bello'"
      ]
     },
     "execution_count": 18,
     "metadata": {},
     "output_type": "execute_result"
    }
   ],
   "source": [
    "a = \"b\" + a[1:]\n",
    "a"
   ]
  },
  {
   "cell_type": "code",
   "execution_count": 23,
   "id": "07d43867",
   "metadata": {
    "ExecuteTime": {
     "end_time": "2022-12-10T15:14:44.605207Z",
     "start_time": "2022-12-10T15:14:44.584943Z"
    }
   },
   "outputs": [
    {
     "name": "stdout",
     "output_type": "stream",
     "text": [
      "3\n",
      "2\n",
      "1\n"
     ]
    },
    {
     "data": {
      "text/plain": [
       "'Zeynep Yıldız Yılmaz'"
      ]
     },
     "execution_count": 23,
     "metadata": {},
     "output_type": "execute_result"
    }
   ],
   "source": [
    "\n",
    "\n",
    "person1 = \"Zeynep Yıldız\"\n",
    "\n",
    "person2 = \"Ahmet Yılmaz\"\n",
    "\n",
    "years_until_marriage = 3\n",
    "\n",
    "while years_until_marriage > 0:\n",
    "    \n",
    "    print(years_until_marriage)\n",
    "    years_until_marriage -= 1\n",
    "    \n",
    "    if years_until_marriage == 0:\n",
    "        person1 = person1 + person2[5:]\n",
    "        person1 = \"Zeynep Yıldız\" + \" Yılmaz\"\n",
    "        \n",
    "person1"
   ]
  },
  {
   "cell_type": "code",
   "execution_count": 50,
   "id": "ad46dfef",
   "metadata": {
    "ExecuteTime": {
     "end_time": "2022-12-10T16:52:34.548976Z",
     "start_time": "2022-12-10T16:52:34.540465Z"
    }
   },
   "outputs": [
    {
     "name": "stdout",
     "output_type": "stream",
     "text": [
      "There is an b or u\n",
      "There is an a or u\n"
     ]
    }
   ],
   "source": [
    "s = \"abcdefgh\"\n",
    "\n",
    "for index in range(len(s)):\n",
    "    if s[index] == 'b' or s[index] == 'u':\n",
    "        print(\"There is an b or u\")\n",
    "        \n",
    "for char in s:\n",
    "    if char == 'a' or char == 'u':\n",
    "        print(\"There is an a or u\")\n"
   ]
  },
  {
   "cell_type": "code",
   "execution_count": 49,
   "id": "1e1ea924",
   "metadata": {
    "ExecuteTime": {
     "end_time": "2022-12-10T16:51:24.832056Z",
     "start_time": "2022-12-10T16:51:24.814028Z"
    },
    "scrolled": true
   },
   "outputs": [
    {
     "name": "stdout",
     "output_type": "stream",
     "text": [
      "PPPPPPPPPP\n",
      "yyyyyyyyyy\n",
      "tttttttttt\n",
      "hhhhhhhhhh\n",
      "oooooooooo\n",
      "nnnnnnnnnn\n",
      "          \n",
      "EEEEEEEEEE\n",
      "ğğğğğğğğğğ\n",
      "iiiiiiiiii\n",
      "tttttttttt\n",
      "iiiiiiiiii\n",
      "mmmmmmmmmm\n",
      "iiiiiiiiii\n"
     ]
    }
   ],
   "source": [
    "for character in title:\n",
    "    print(character*10)"
   ]
  },
  {
   "cell_type": "markdown",
   "id": "114d2861",
   "metadata": {
    "ExecuteTime": {
     "end_time": "2022-12-10T15:29:49.097255Z",
     "start_time": "2022-12-10T15:29:49.080771Z"
    }
   },
   "source": [
    "# Function's"
   ]
  },
  {
   "attachments": {
    "image.png": {
     "image/png": "[encoded data removed]"
    }
   },
   "cell_type": "markdown",
   "id": "cda382b7",
   "metadata": {},
   "source": [
    "![image.png](attachment:image.png)"
   ]
  },
  {
   "cell_type": "code",
   "execution_count": 38,
   "id": "d5505bdc",
   "metadata": {
    "ExecuteTime": {
     "end_time": "2022-12-10T15:29:26.357176Z",
     "start_time": "2022-12-10T15:29:26.333166Z"
    }
   },
   "outputs": [
    {
     "data": {
      "application/vnd.jupyter.widget-view+json": {
       "model_id": "58efd29ed9f94c008ff966a25f392fa3",
       "version_major": 2,
       "version_minor": 0
      },
      "text/plain": [
       "HTML(value='<img src=\"90c2bd3350b9804f8e12b5a35b304e58.gif\" width=\"750\" align=\"center\">')"
      ]
     },
     "metadata": {},
     "output_type": "display_data"
    }
   ],
   "source": [
    "import ipywidgets as widgets\n",
    "gif_file = \"90c2bd3350b9804f8e12b5a35b304e58.gif\"\n",
    "display(widgets.HTML(f'<img src=\"{gif_file}\" width=\"750\" align=\"center\">'))"
   ]
  },
  {
   "cell_type": "markdown",
   "id": "95970214",
   "metadata": {},
   "source": [
    "$f(x) = x^2 + 5$"
   ]
  },
  {
   "cell_type": "code",
   "execution_count": 54,
   "id": "03ebbad3",
   "metadata": {
    "ExecuteTime": {
     "end_time": "2022-12-10T16:58:24.320163Z",
     "start_time": "2022-12-10T16:58:24.302089Z"
    }
   },
   "outputs": [],
   "source": [
    "def take_square_of_variable(x):\n",
    "    print(x**2)"
   ]
  },
  {
   "cell_type": "code",
   "execution_count": 53,
   "id": "e136ec7d",
   "metadata": {
    "ExecuteTime": {
     "end_time": "2022-12-10T16:57:08.215798Z",
     "start_time": "2022-12-10T16:57:08.202999Z"
    }
   },
   "outputs": [
    {
     "name": "stdout",
     "output_type": "stream",
     "text": [
      "100\n"
     ]
    }
   ],
   "source": [
    "square(10)"
   ]
  },
  {
   "cell_type": "code",
   "execution_count": null,
   "id": "1b0ffe3d",
   "metadata": {},
   "outputs": [],
   "source": [
    "t"
   ]
  },
  {
   "cell_type": "code",
   "execution_count": null,
   "id": "b7702755",
   "metadata": {},
   "outputs": [],
   "source": []
  },
  {
   "cell_type": "code",
   "execution_count": null,
   "id": "2becc182",
   "metadata": {},
   "outputs": [],
   "source": []
  },
  {
   "cell_type": "code",
   "execution_count": null,
   "id": "f51e35b0",
   "metadata": {},
   "outputs": [],
   "source": []
  },
  {
   "cell_type": "code",
   "execution_count": null,
   "id": "bf5e71a2",
   "metadata": {},
   "outputs": [],
   "source": []
  },
  {
   "cell_type": "code",
   "execution_count": 55,
   "id": "303b6da5",
   "metadata": {
    "ExecuteTime": {
     "end_time": "2022-12-10T16:59:07.638781Z",
     "start_time": "2022-12-10T16:59:07.630264Z"
    }
   },
   "outputs": [],
   "source": [
    "def is_even( i ):\n",
    "    print(i%2 == 0)"
   ]
  },
  {
   "cell_type": "code",
   "execution_count": 57,
   "id": "726540b1",
   "metadata": {
    "ExecuteTime": {
     "end_time": "2022-12-10T16:59:42.711802Z",
     "start_time": "2022-12-10T16:59:42.701328Z"
    }
   },
   "outputs": [
    {
     "name": "stdout",
     "output_type": "stream",
     "text": [
      "True\n"
     ]
    }
   ],
   "source": [
    "is"
   ]
  },
  {
   "cell_type": "code",
   "execution_count": 61,
   "id": "350954e5",
   "metadata": {
    "ExecuteTime": {
     "end_time": "2022-12-10T17:06:42.245816Z",
     "start_time": "2022-12-10T17:06:42.236416Z"
    }
   },
   "outputs": [
    {
     "name": "stdout",
     "output_type": "stream",
     "text": [
      "in f(x): x = 30\n"
     ]
    }
   ],
   "source": [
    "def f(x):\n",
    "    x = x**2 + 5\n",
    "    print('in f(x): x =', x)\n",
    "    return x\n",
    "\n",
    "z = f(5)\n",
    "\n",
    "z"
   ]
  },
  {
   "cell_type": "code",
   "execution_count": null,
   "id": "016818ea",
   "metadata": {},
   "outputs": [],
   "source": []
  },
  {
   "cell_type": "code",
   "execution_count": 62,
   "id": "71102802",
   "metadata": {
    "ExecuteTime": {
     "end_time": "2022-12-10T17:08:30.803418Z",
     "start_time": "2022-12-10T17:08:30.791304Z"
    }
   },
   "outputs": [],
   "source": [
    "def sayilari_topla(x, y, z):\n",
    "    \"\"\"\n",
    "    Bu fonksiyon girilen 3 sayının toplanmasını sağlar\n",
    "    param x: 1. sayım\n",
    "    param y: Dolar sit\n",
    "    param z: Amet.\n",
    "    \"\"\"\n",
    "    return x + y + z"
   ]
  },
  {
   "cell_type": "code",
   "execution_count": null,
   "id": "8acd60c2",
   "metadata": {},
   "outputs": [],
   "source": [
    "sayilari_topla()"
   ]
  }
 ],
 "metadata": {
  "kernelspec": {
   "display_name": "Python 3 (ipykernel)",
   "language": "python",
   "name": "python3"
  },
  "language_info": {
   "codemirror_mode": {
    "name": "ipython",
    "version": 3
   },
   "file_extension": ".py",
   "mimetype": "text/x-python",
   "name": "python",
   "nbconvert_exporter": "python",
   "pygments_lexer": "ipython3",
   "version": "3.9.12"
  }
 },
 "nbformat": 4,
 "nbformat_minor": 5
}
