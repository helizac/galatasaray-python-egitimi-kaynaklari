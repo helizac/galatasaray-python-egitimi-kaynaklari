{
 "cells": [
  {
   "cell_type": "markdown",
   "id": "8bd768fb",
   "metadata": {},
   "source": [
    "# Listeler, Tuple'lar, Set'ler, Dictionaries"
   ]
  },
  {
   "cell_type": "markdown",
   "id": "db6a806b",
   "metadata": {},
   "source": [
    "---"
   ]
  },
  {
   "cell_type": "markdown",
   "id": "36b59d5d",
   "metadata": {},
   "source": [
    "## Listeler"
   ]
  },
  {
   "cell_type": "code",
   "execution_count": 4,
   "id": "2e7319d8",
   "metadata": {
    "ExecuteTime": {
     "end_time": "2022-12-16T16:16:14.857476Z",
     "start_time": "2022-12-16T16:16:14.851363Z"
    }
   },
   "outputs": [],
   "source": [
    "a = [1, 2, 3]"
   ]
  },
  {
   "cell_type": "code",
   "execution_count": 6,
   "id": "3e14ecc5",
   "metadata": {
    "ExecuteTime": {
     "end_time": "2022-12-16T16:16:45.843695Z",
     "start_time": "2022-12-16T16:16:45.829161Z"
    }
   },
   "outputs": [
    {
     "name": "stdout",
     "output_type": "stream",
     "text": [
      "1\n"
     ]
    }
   ],
   "source": [
    "print(a[0])"
   ]
  },
  {
   "cell_type": "code",
   "execution_count": 10,
   "id": "0754c9eb",
   "metadata": {
    "ExecuteTime": {
     "end_time": "2022-12-16T16:18:56.297488Z",
     "start_time": "2022-12-16T16:18:56.285013Z"
    }
   },
   "outputs": [
    {
     "name": "stdout",
     "output_type": "stream",
     "text": [
      "[1, [2, 3], (4, 5), False, 'No']\n",
      "[2, 3]\n",
      "<class 'list'>\n"
     ]
    }
   ],
   "source": [
    "liste = []\n",
    "liste1 = [1, [2,3], (4,5), False, 'No']\n",
    "liste2 = list(liste1)\n",
    "liste3 = list([1,2,3])\n",
    "print(liste1)\n",
    "print(liste1[1])\n",
    "print(type(liste1))"
   ]
  },
  {
   "cell_type": "code",
   "execution_count": null,
   "id": "c04eaef1",
   "metadata": {},
   "outputs": [],
   "source": [
    "liste= [[3,3,3],[2,2,2],[1,1,1]]"
   ]
  },
  {
   "cell_type": "code",
   "execution_count": 14,
   "id": "5e3de5a3",
   "metadata": {
    "ExecuteTime": {
     "end_time": "2022-12-16T16:22:07.357045Z",
     "start_time": "2022-12-16T16:22:07.338056Z"
    }
   },
   "outputs": [
    {
     "name": "stdout",
     "output_type": "stream",
     "text": [
      "[1, 4, 9, 16, 25]\n",
      "[0, 1, 4, 9, 16, 25, 36, 49, 64, 81]\n"
     ]
    }
   ],
   "source": [
    "liste = [x**2 for x in (1,2,3,4,5)] # [1, 4, 9, 16, 25]\n",
    "print(liste)\n",
    "squares = [i**2 for i in range(10)] # [0, 1, 4, 9, 16, 25, 36, 49, 64, 81]\n",
    "print(squares)"
   ]
  },
  {
   "cell_type": "code",
   "execution_count": 15,
   "id": "3c928480",
   "metadata": {
    "ExecuteTime": {
     "end_time": "2022-12-16T16:22:37.214348Z",
     "start_time": "2022-12-16T16:22:37.205800Z"
    }
   },
   "outputs": [
    {
     "name": "stdout",
     "output_type": "stream",
     "text": [
      "c\n",
      "['a', 'b']\n",
      "['d', 'c', 'b', 'a']\n",
      "['a', 'c']\n"
     ]
    }
   ],
   "source": [
    "liste = ['a','b','c', 'd']\n",
    "print(liste[2]) # 2. indexteki (baştan 3. eleman)\n",
    "print(liste[:2]) # liste başından 2. indextekine kadar(2. index dahil değil)\n",
    "print(liste[::-1]) # listeyi ters yazdırır\n",
    "print(liste[::2])\n",
    "# 0. indexten başlayarak 2 ve katları olan indexlileri yazdırır (slice stepping)"
   ]
  },
  {
   "cell_type": "code",
   "execution_count": 21,
   "id": "24f0af09",
   "metadata": {
    "ExecuteTime": {
     "end_time": "2022-12-16T16:24:54.709840Z",
     "start_time": "2022-12-16T16:24:54.688219Z"
    }
   },
   "outputs": [
    {
     "name": "stdout",
     "output_type": "stream",
     "text": [
      "['Python', 'Eğitim', 'Serisi']\n",
      "['P', 'y', 't', 'h', 'o', 'n', ' ', 'E', 'ğ', 'i', 't', 'i', 'm', ' ', 'S', 'e', 'r', 'i', 's', 'i']\n"
     ]
    }
   ],
   "source": [
    "a = \"Python Eğitim Serisi\"\n",
    "l1 = a.split()\n",
    "print(l1)\n",
    "liste = list(a)\n",
    "print(liste)"
   ]
  },
  {
   "cell_type": "code",
   "execution_count": 24,
   "id": "b422ce23",
   "metadata": {
    "ExecuteTime": {
     "end_time": "2022-12-16T16:26:45.743288Z",
     "start_time": "2022-12-16T16:26:45.735781Z"
    }
   },
   "outputs": [
    {
     "name": "stdout",
     "output_type": "stream",
     "text": [
      "['cookies', 'pasta', 'eggs', 'milk']\n",
      "['cookies', 'pasta', 'eggs', 'milk', 'bread']\n",
      "['cookies', 'pasta', 'eggs', 'milk', 'bread', 'cream']\n",
      "['cookies', 'pasta', 'eggs', 'milk', 'bread']\n",
      "['cookies', 'pasta', 'spam', 'eggs', 'milk', 'bread']\n"
     ]
    }
   ],
   "source": [
    "list=[\"cookies\", \"pasta\", \"eggs\"]\n",
    "list += [\"milk\"] # [] gerekli\n",
    "print(list)\n",
    "a = b = c = d = list\n",
    "# a b c d her biri aynı orijinal listeyi içeriyor fakat yeni liste yaratılmadı\n",
    "a += [\"bread\"]\n",
    "# a b c d'den herhangi birindeki listeyi değiştirirsek orijinal liste hepsinde değişir\n",
    "print(list)\n",
    "b.append(\"cream\")\n",
    "print(d) # print ile a/b/c/d/list hangisini yazdirirsak aynı çıktıyı verir\n",
    "c.pop()\n",
    "print(a)\n",
    "a.insert(2,\"spam\")\n",
    "print(b)"
   ]
  },
  {
   "cell_type": "code",
   "execution_count": 29,
   "id": "51d532f0",
   "metadata": {
    "ExecuteTime": {
     "end_time": "2022-12-16T16:29:52.399167Z",
     "start_time": "2022-12-16T16:29:52.378642Z"
    }
   },
   "outputs": [
    {
     "name": "stdout",
     "output_type": "stream",
     "text": [
      "[1, 2, 3, 100, 5]\n",
      "[10, 20, 3, 100, 5]\n",
      "[0, 100, 5]\n",
      "[0, 0, 0, 0, 0, 0, 0, 0, 0, 0, 0, 0, 0, 0, 0, 0, 0, 0, 0, 0]\n"
     ]
    }
   ],
   "source": [
    "liste = [1,2,3,4,5]\n",
    "liste[3] = 100\n",
    "print(liste)\n",
    "liste[:2] = [10, 20]\n",
    "print(liste)\n",
    "liste[:3] = [0]\n",
    "# liste başından 3.indexe kadar(dahil değil) olan elemanların yerine sadece 9 koydu ve\n",
    "# listenin eleman sayisini (eşitliğin sağındaki eleman sayısı(bu durumda sadece 1)) -\n",
    "# (yerine_koyduğu_eleman_sayisi(bu durumda 3)) kadar azalttı\n",
    "print(liste)\n",
    "\n",
    "l2 = [0]*20\n",
    "print(l2)"
   ]
  },
  {
   "cell_type": "code",
   "execution_count": 30,
   "id": "96cfe848",
   "metadata": {
    "ExecuteTime": {
     "end_time": "2022-12-16T16:30:18.708595Z",
     "start_time": "2022-12-16T16:30:18.687851Z"
    }
   },
   "outputs": [
    {
     "name": "stdout",
     "output_type": "stream",
     "text": [
      "[1, 2, 3, 4, 5, 6]\n",
      "[1, 2, 3]\n",
      "[4, 5, 6]\n",
      "[1, 2, 3, 4, 5, 6]\n",
      "[4, 5, 6]\n"
     ]
    }
   ],
   "source": [
    "liste1 = [1, 2, 3]\n",
    "liste2 = [4, 5, 6]\n",
    "yeniliste = liste1 + liste2\n",
    "print(yeniliste)\n",
    "print(liste1)\n",
    "print(liste2)\n",
    "liste1.extend(liste2)\n",
    "print(liste1)\n",
    "print(liste2)"
   ]
  },
  {
   "cell_type": "code",
   "execution_count": 32,
   "id": "4eed9ab3",
   "metadata": {
    "ExecuteTime": {
     "end_time": "2022-12-16T16:31:08.966956Z",
     "start_time": "2022-12-16T16:31:08.951403Z"
    }
   },
   "outputs": [
    {
     "name": "stdout",
     "output_type": "stream",
     "text": [
      "[[1, 2, 3], [4, 5, 6]]\n",
      "6\n"
     ]
    }
   ],
   "source": [
    "liste1 = [1, 2, 3]\n",
    "liste2 = [4, 5, 6]\n",
    "yeniliste = [liste1, liste2] # [[1, 2, 3], [4, 5, 6]]\n",
    "print(yeniliste)\n",
    "print(yeniliste[1][2]) # 6"
   ]
  },
  {
   "cell_type": "code",
   "execution_count": 37,
   "id": "bba8f8f6",
   "metadata": {
    "ExecuteTime": {
     "end_time": "2022-12-16T16:37:07.732163Z",
     "start_time": "2022-12-16T16:37:07.723622Z"
    }
   },
   "outputs": [
    {
     "name": "stdout",
     "output_type": "stream",
     "text": [
      "[[1, 2, 3], [4, 5, 6], [7, 8, 9]]\n",
      "([1, 2, 3], [4, 5, 6], [7, 8, 9])\n",
      "(1, 1, 2, 3)\n"
     ]
    }
   ],
   "source": [
    "matris = [[1,2,3],[4,5,6],[7,8,9]]\n",
    "print(matris)\n",
    "t1 = tuple(matris)\n",
    "print(t1)\n",
    "\n",
    "l3 = [1,1,2,3]\n",
    "t3 = tuple(l3)\n",
    "print(t3)"
   ]
  },
  {
   "cell_type": "markdown",
   "id": "4bfe149d",
   "metadata": {},
   "source": [
    "## Tuple'lar"
   ]
  },
  {
   "cell_type": "code",
   "execution_count": null,
   "id": "0f7d043b",
   "metadata": {},
   "outputs": [],
   "source": [
    "tuple1 = ()\n",
    "yenituple = tuple(('a', 'b', 'c'))\n",
    "liste = [1,2,3] # bir listeyi bu fonksiyonla tuple yapabiliriz\n",
    "tuple2 = tuple(liste) # (1,2,3)\n",
    "tuple3 = (1, [2,3], (4,5), False, 'No')\n",
    "tuple4 = 1, 2, \"hey\"\n",
    "print(type(tuple4))"
   ]
  },
  {
   "cell_type": "code",
   "execution_count": null,
   "id": "6a58d1f0",
   "metadata": {},
   "outputs": [],
   "source": [
    "tuple1 = (\"hello\") # tuple olarak algılamaz\n",
    "print(type(tuple1)) # <class 'str'>\n",
    "tuple1 = (\"hello\",) # Tek elemanlı tuple oluşturmak\n",
    "print(type(tuple1)) # <class 'tuple'>\n",
    "tuple1 = \"hello\", # Parentezsiz tek elemanlı tuple oluşturmak\n",
    "print(type(tuple1)) # <class 'tuple'>"
   ]
  },
  {
   "cell_type": "code",
   "execution_count": null,
   "id": "dcc5b3f9",
   "metadata": {},
   "outputs": [],
   "source": [
    "tuple1 = ('a','b','c', 'd')\n",
    "print(tuple1[2]) # 2. indexteki (baştan 3. eleman)\n",
    "print(tuple1[:2]) # tuple başından 2. indextekine kadar(2. index dahil değil)\n",
    "print(tuple1[:-1])\n",
    "print(tuple1[::-1]) # tupleı ters yazdırır\n",
    "print(tuple1[::2]).\n",
    "# 0. indexten başlayarak 2 ve katları olan indexlileri yazdırır (slice stepping)"
   ]
  },
  {
   "cell_type": "code",
   "execution_count": null,
   "id": "0fc8c454",
   "metadata": {},
   "outputs": [],
   "source": [
    "tuple1 = (4, 2, 3, [6, 5])\n",
    "tuple1[1] = 9 # TypeError: 'tuple' object does not support item assignment\n",
    "tuple1[3] = [7, 8] # TypeError: 'tuple' object does not support item assignment\n",
    "tuple1[3][0] = 9 # Output: (4, 2, 3, [9, 5])\n",
    "tuple1 = ('y', 'e', 'n', 'i') # tuple'ı yeniden tanımlayabiliriz"
   ]
  },
  {
   "cell_type": "code",
   "execution_count": null,
   "id": "f61d61f5",
   "metadata": {},
   "outputs": [],
   "source": [
    "tuple1 = 1, 2, \"hey\"\n",
    "a, b, c = tuple1 # esitligin sol tarafina tuple eleman sayisi kadar deger yazilir\n",
    "print(a) # 1\n",
    "print(b) # 2\n",
    "print(c) # \"hey\""
   ]
  },
  {
   "cell_type": "code",
   "execution_count": null,
   "id": "c1ff4317",
   "metadata": {},
   "outputs": [],
   "source": [
    "tuple1 = ('a', 'b', 'c', 'd')\n",
    "for letter in tuple1:\n",
    "    print(letter)"
   ]
  },
  {
   "cell_type": "code",
   "execution_count": null,
   "id": "2500674c",
   "metadata": {},
   "outputs": [],
   "source": [
    "tuple1 = ('a', 'b', 'c', 'd')\n",
    "if 'a' in tuple1: # varsa True yoksa False döndürür\n",
    "    print(\"Tuple'da 'a' elemanı var.\")"
   ]
  },
  {
   "cell_type": "code",
   "execution_count": 43,
   "id": "28454cdb",
   "metadata": {
    "ExecuteTime": {
     "end_time": "2022-12-16T16:41:29.544002Z",
     "start_time": "2022-12-16T16:41:29.525592Z"
    }
   },
   "outputs": [
    {
     "name": "stdout",
     "output_type": "stream",
     "text": [
      "{1, 2, 3}\n"
     ]
    }
   ],
   "source": [
    "l = [1,2,3,3]\n",
    "k1 = set(l)\n",
    "print(k1)"
   ]
  },
  {
   "cell_type": "code",
   "execution_count": 1,
   "id": "45cb45e5",
   "metadata": {
    "ExecuteTime": {
     "end_time": "2022-12-16T15:30:24.062030Z",
     "start_time": "2022-12-16T15:30:24.050028Z"
    }
   },
   "outputs": [
    {
     "name": "stdout",
     "output_type": "stream",
     "text": [
      "Tue\n",
      "Mon\n",
      "Wed\n",
      "Thu\n",
      "Fri\n",
      "Sun\n",
      "Sat\n"
     ]
    }
   ],
   "source": [
    "days=set([\"Mon\",\"Tue\",\"Wed\",\"Thu\",\"Fri\",\"Sat\",\"Sun\"])\n",
    "for d in days:\n",
    "    print(d)\n",
    "    \n",
    "    #ctrl+alt+< -> |"
   ]
  },
  {
   "cell_type": "code",
   "execution_count": 51,
   "id": "f2bac090",
   "metadata": {
    "ExecuteTime": {
     "end_time": "2022-12-16T16:52:08.875968Z",
     "start_time": "2022-12-16T16:52:08.863577Z"
    }
   },
   "outputs": [
    {
     "name": "stdout",
     "output_type": "stream",
     "text": [
      "dict_values([19, 15])\n"
     ]
    }
   ],
   "source": [
    "sinifin_yaslari = {\"furkan\": 19, \"ahmet\": 15}\n",
    "\n",
    "print(sinifin_yaslari.values())"
   ]
  },
  {
   "cell_type": "code",
   "execution_count": 67,
   "id": "9d7852ad",
   "metadata": {
    "ExecuteTime": {
     "end_time": "2022-12-16T17:00:51.185240Z",
     "start_time": "2022-12-16T17:00:51.165378Z"
    }
   },
   "outputs": [
    {
     "name": "stdout",
     "output_type": "stream",
     "text": [
      "{0: 0.0, 1: 1.0, 2: 1.4142135623730951, 3: 1.7320508075688772, 4: 2.0}\n",
      "True\n",
      "{0: 0.0, 1: 1.0, 2: 1.4142135623730951, 3: 1.7320508075688772}\n"
     ]
    }
   ],
   "source": [
    "karekok = {x: x**(1/2) for x in range(5)}\n",
    "print(karekok)\n",
    "a = karekok.popitem()\n",
    "print(any(karekok))\n",
    "print(karekok)"
   ]
  },
  {
   "cell_type": "code",
   "execution_count": null,
   "id": "6920656e",
   "metadata": {},
   "outputs": [],
   "source": [
    "sinif = [{\"furkan\": 21, \"ahmet\": \"20\"}, {\"furkan\": 89, \"ahmet\": 90}]"
   ]
  },
  {
   "cell_type": "code",
   "execution_count": null,
   "id": "566ec5fe",
   "metadata": {},
   "outputs": [],
   "source": []
  },
  {
   "cell_type": "code",
   "execution_count": null,
   "id": "c165cc1f",
   "metadata": {},
   "outputs": [],
   "source": []
  },
  {
   "cell_type": "code",
   "execution_count": 68,
   "id": "490ad271",
   "metadata": {
    "ExecuteTime": {
     "end_time": "2022-12-16T17:03:41.968900Z",
     "start_time": "2022-12-16T17:03:41.955512Z"
    }
   },
   "outputs": [
    {
     "data": {
      "text/plain": [
       "[0, 1, 2, 3, 4, 5, 6, 7, 8, 9, 10, 11, 12, 13, 14, 15, 16, 17, 18, 19]"
      ]
     },
     "execution_count": 68,
     "metadata": {},
     "output_type": "execute_result"
    }
   ],
   "source": [
    "l = [i for i in range(20)]\n",
    "l"
   ]
  },
  {
   "cell_type": "code",
   "execution_count": 71,
   "id": "e3e8aaaa",
   "metadata": {
    "ExecuteTime": {
     "end_time": "2022-12-16T17:04:48.027817Z",
     "start_time": "2022-12-16T17:04:48.010159Z"
    }
   },
   "outputs": [
    {
     "name": "stdout",
     "output_type": "stream",
     "text": [
      "0.0\n",
      "0.2\n",
      "0.8\n",
      "1.8\n",
      "3.2\n",
      "5.0\n",
      "7.2\n",
      "9.8\n",
      "12.8\n",
      "16.2\n",
      "20.0\n",
      "24.2\n",
      "28.8\n",
      "33.8\n",
      "39.2\n",
      "45.0\n",
      "51.2\n",
      "57.8\n",
      "64.8\n",
      "72.2\n"
     ]
    }
   ],
   "source": [
    "for i in range(len(l)):\n",
    "    print(l[i]**2/5)"
   ]
  },
  {
   "cell_type": "code",
   "execution_count": 73,
   "id": "9d0f9379",
   "metadata": {
    "ExecuteTime": {
     "end_time": "2022-12-16T17:06:23.559501Z",
     "start_time": "2022-12-16T17:06:23.539172Z"
    }
   },
   "outputs": [
    {
     "name": "stdout",
     "output_type": "stream",
     "text": [
      "14\n",
      "30\n",
      "366\n",
      "1449\n",
      "[14, 30, 366, 1449]\n"
     ]
    }
   ],
   "source": [
    "def f(x):\n",
    "    return x**2+5\n",
    "\n",
    "l1 = [3, 5, 19 ,38]\n",
    "\n",
    "for i in range(len(l1)):\n",
    "    print(f(l1[i]))\n",
    "    \n",
    "print([f(x) for x in l1])"
   ]
  },
  {
   "cell_type": "code",
   "execution_count": null,
   "id": "1a587eb6",
   "metadata": {},
   "outputs": [],
   "source": []
  }
 ],
 "metadata": {
  "kernelspec": {
   "display_name": "Python 3 (ipykernel)",
   "language": "python",
   "name": "python3"
  },
  "language_info": {
   "codemirror_mode": {
    "name": "ipython",
    "version": 3
   },
   "file_extension": ".py",
   "mimetype": "text/x-python",
   "name": "python",
   "nbconvert_exporter": "python",
   "pygments_lexer": "ipython3",
   "version": "3.10.7"
  }
 },
 "nbformat": 4,
 "nbformat_minor": 5
}
