{
 "cells": [
  {
   "cell_type": "markdown",
   "id": "875a05f9",
   "metadata": {},
   "source": [
    "# Google DSC Galatasaray - Python Eğitimi - Ders 1"
   ]
  },
  {
   "cell_type": "markdown",
   "id": "105e33ed",
   "metadata": {},
   "source": [
    "## Veri Tipleri "
   ]
  },
  {
   "cell_type": "markdown",
   "id": "a3af7cc0",
   "metadata": {},
   "source": [
    "#### Nümerik ( Sayısal ) Veri Tipleri"
   ]
  },
  {
   "cell_type": "code",
   "execution_count": 2,
   "id": "ae3cc6e9",
   "metadata": {
    "ExecuteTime": {
     "end_time": "2022-12-09T16:08:00.718760Z",
     "start_time": "2022-12-09T16:08:00.706715Z"
    }
   },
   "outputs": [
    {
     "data": {
      "text/plain": [
       "int"
      ]
     },
     "execution_count": 2,
     "metadata": {},
     "output_type": "execute_result"
    }
   ],
   "source": [
    "# Integer\n",
    "\n",
    "a = 3\n",
    "type(a)"
   ]
  },
  {
   "cell_type": "code",
   "execution_count": 3,
   "id": "3b68ba92",
   "metadata": {
    "ExecuteTime": {
     "end_time": "2022-12-09T16:08:11.156536Z",
     "start_time": "2022-12-09T16:08:11.151539Z"
    }
   },
   "outputs": [
    {
     "data": {
      "text/plain": [
       "float"
      ]
     },
     "execution_count": 3,
     "metadata": {},
     "output_type": "execute_result"
    }
   ],
   "source": [
    "# Float\n",
    "\n",
    "a = 4.0\n",
    "type(a)"
   ]
  },
  {
   "cell_type": "code",
   "execution_count": 16,
   "id": "9d8d2c54",
   "metadata": {
    "ExecuteTime": {
     "end_time": "2022-12-09T11:47:03.477342Z",
     "start_time": "2022-12-09T11:47:03.457930Z"
    }
   },
   "outputs": [
    {
     "data": {
      "text/plain": [
       "bool"
      ]
     },
     "execution_count": 16,
     "metadata": {},
     "output_type": "execute_result"
    }
   ],
   "source": [
    "# Boolean\n",
    "\n",
    "a = True\n",
    "type(a)"
   ]
  },
  {
   "cell_type": "code",
   "execution_count": 17,
   "id": "12b7355d",
   "metadata": {
    "ExecuteTime": {
     "end_time": "2022-12-09T11:47:39.462025Z",
     "start_time": "2022-12-09T11:47:39.449025Z"
    }
   },
   "outputs": [
    {
     "data": {
      "text/plain": [
       "NoneType"
      ]
     },
     "execution_count": 17,
     "metadata": {},
     "output_type": "execute_result"
    }
   ],
   "source": [
    "# NoneType\n",
    "\n",
    "a = None\n",
    "type(a)"
   ]
  },
  {
   "cell_type": "code",
   "execution_count": 22,
   "id": "833ef9a3",
   "metadata": {
    "ExecuteTime": {
     "end_time": "2022-12-09T11:51:07.760850Z",
     "start_time": "2022-12-09T11:51:07.755850Z"
    }
   },
   "outputs": [],
   "source": [
    "a = 1 # Integer\n",
    "b = 1.0 # Float\n",
    "c = True # Boolean\n",
    "d = None # NoneType"
   ]
  },
  {
   "cell_type": "markdown",
   "id": "70a1cb68",
   "metadata": {},
   "source": [
    "#### Dönüşümler"
   ]
  },
  {
   "cell_type": "code",
   "execution_count": 4,
   "id": "c45655b4",
   "metadata": {
    "ExecuteTime": {
     "end_time": "2022-12-09T16:13:01.593632Z",
     "start_time": "2022-12-09T16:13:01.587630Z"
    }
   },
   "outputs": [
    {
     "name": "stdout",
     "output_type": "stream",
     "text": [
      "2 <class 'int'>\n",
      "2.0 <class 'float'>\n"
     ]
    }
   ],
   "source": [
    "a = 2\n",
    "print(a, type(a))\n",
    "\n",
    "a = float(a)\n",
    "print(a, type(a))"
   ]
  },
  {
   "cell_type": "code",
   "execution_count": 5,
   "id": "dacf1085",
   "metadata": {
    "ExecuteTime": {
     "end_time": "2022-12-09T16:13:51.175896Z",
     "start_time": "2022-12-09T16:13:51.168898Z"
    }
   },
   "outputs": [
    {
     "name": "stdout",
     "output_type": "stream",
     "text": [
      "3.9 <class 'float'>\n",
      "3 <class 'int'>\n"
     ]
    }
   ],
   "source": [
    "a = 3.9\n",
    "print(a, type(a))\n",
    "\n",
    "a = int(a)\n",
    "print(a, type(a))"
   ]
  },
  {
   "cell_type": "code",
   "execution_count": 6,
   "id": "df0ed00f",
   "metadata": {
    "ExecuteTime": {
     "end_time": "2022-12-09T16:14:24.860369Z",
     "start_time": "2022-12-09T16:14:24.852372Z"
    }
   },
   "outputs": [
    {
     "data": {
      "text/plain": [
       "(3, 3)"
      ]
     },
     "execution_count": 6,
     "metadata": {},
     "output_type": "execute_result"
    }
   ],
   "source": [
    "a = 3.2\n",
    "b = 3.8\n",
    "\n",
    "int(a), int(b)"
   ]
  },
  {
   "cell_type": "code",
   "execution_count": 29,
   "id": "1183eaee",
   "metadata": {
    "ExecuteTime": {
     "end_time": "2022-12-09T11:53:58.572335Z",
     "start_time": "2022-12-09T11:53:58.553335Z"
    }
   },
   "outputs": [
    {
     "name": "stdout",
     "output_type": "stream",
     "text": [
      "1 0\n",
      "1.0 0.0\n"
     ]
    }
   ],
   "source": [
    "boolean_variable1 = True\n",
    "boolean_variable2 = False\n",
    "\n",
    "print(int(boolean_variable1), int(boolean_variable2))\n",
    "print(float(boolean_variable1), float(boolean_variable2))"
   ]
  },
  {
   "cell_type": "code",
   "execution_count": 31,
   "id": "7a9cf362",
   "metadata": {
    "ExecuteTime": {
     "end_time": "2022-12-09T11:54:53.701813Z",
     "start_time": "2022-12-09T11:54:53.694785Z"
    }
   },
   "outputs": [
    {
     "data": {
      "text/plain": [
       "(False, True)"
      ]
     },
     "execution_count": 31,
     "metadata": {},
     "output_type": "execute_result"
    }
   ],
   "source": [
    "a = 0\n",
    "b = 1.0\n",
    "\n",
    "bool(a), bool(b)"
   ]
  },
  {
   "cell_type": "markdown",
   "id": "1c4b3a6f",
   "metadata": {
    "ExecuteTime": {
     "end_time": "2022-12-09T12:01:21.637651Z",
     "start_time": "2022-12-09T12:01:21.633611Z"
    }
   },
   "source": [
    "#### Aritmetik Operatörler"
   ]
  },
  {
   "cell_type": "code",
   "execution_count": 8,
   "id": "52ff27d4",
   "metadata": {
    "ExecuteTime": {
     "end_time": "2022-12-09T16:16:21.488089Z",
     "start_time": "2022-12-09T16:16:21.476049Z"
    }
   },
   "outputs": [],
   "source": [
    "a = 2\n",
    "b = 3"
   ]
  },
  {
   "cell_type": "code",
   "execution_count": 40,
   "id": "28334ac3",
   "metadata": {
    "ExecuteTime": {
     "end_time": "2022-12-09T11:57:42.630527Z",
     "start_time": "2022-12-09T11:57:42.619523Z"
    }
   },
   "outputs": [
    {
     "data": {
      "text/plain": [
       "5"
      ]
     },
     "execution_count": 40,
     "metadata": {},
     "output_type": "execute_result"
    }
   ],
   "source": [
    "a + b"
   ]
  },
  {
   "cell_type": "code",
   "execution_count": 41,
   "id": "fd0cd114",
   "metadata": {
    "ExecuteTime": {
     "end_time": "2022-12-09T11:57:44.005113Z",
     "start_time": "2022-12-09T11:57:43.994115Z"
    }
   },
   "outputs": [
    {
     "data": {
      "text/plain": [
       "-1"
      ]
     },
     "execution_count": 41,
     "metadata": {},
     "output_type": "execute_result"
    }
   ],
   "source": [
    "a - b"
   ]
  },
  {
   "cell_type": "code",
   "execution_count": 42,
   "id": "773529a0",
   "metadata": {
    "ExecuteTime": {
     "end_time": "2022-12-09T11:57:46.192426Z",
     "start_time": "2022-12-09T11:57:46.174426Z"
    }
   },
   "outputs": [
    {
     "data": {
      "text/plain": [
       "6"
      ]
     },
     "execution_count": 42,
     "metadata": {},
     "output_type": "execute_result"
    }
   ],
   "source": [
    "a * b"
   ]
  },
  {
   "cell_type": "code",
   "execution_count": 51,
   "id": "79c2ca98",
   "metadata": {
    "ExecuteTime": {
     "end_time": "2022-12-09T11:59:30.580973Z",
     "start_time": "2022-12-09T11:59:30.564011Z"
    }
   },
   "outputs": [
    {
     "data": {
      "text/plain": [
       "0.6666666666666666"
      ]
     },
     "execution_count": 51,
     "metadata": {},
     "output_type": "execute_result"
    }
   ],
   "source": [
    "a / b"
   ]
  },
  {
   "cell_type": "code",
   "execution_count": 9,
   "id": "fb12fd52",
   "metadata": {
    "ExecuteTime": {
     "end_time": "2022-12-09T16:16:23.959168Z",
     "start_time": "2022-12-09T16:16:23.939171Z"
    }
   },
   "outputs": [
    {
     "data": {
      "text/plain": [
       "'0.667'"
      ]
     },
     "execution_count": 9,
     "metadata": {},
     "output_type": "execute_result"
    }
   ],
   "source": [
    "\"%.3f\" % (a / b)"
   ]
  },
  {
   "cell_type": "code",
   "execution_count": 44,
   "id": "316aec71",
   "metadata": {
    "ExecuteTime": {
     "end_time": "2022-12-09T11:57:54.143392Z",
     "start_time": "2022-12-09T11:57:54.132125Z"
    }
   },
   "outputs": [
    {
     "data": {
      "text/plain": [
       "0"
      ]
     },
     "execution_count": 44,
     "metadata": {},
     "output_type": "execute_result"
    }
   ],
   "source": [
    "a // b"
   ]
  },
  {
   "cell_type": "code",
   "execution_count": 52,
   "id": "04800b5a",
   "metadata": {
    "ExecuteTime": {
     "end_time": "2022-12-09T11:59:55.425339Z",
     "start_time": "2022-12-09T11:59:55.416338Z"
    }
   },
   "outputs": [
    {
     "data": {
      "text/plain": [
       "1"
      ]
     },
     "execution_count": 52,
     "metadata": {},
     "output_type": "execute_result"
    }
   ],
   "source": [
    "b // a"
   ]
  },
  {
   "cell_type": "code",
   "execution_count": 53,
   "id": "a3140b17",
   "metadata": {
    "ExecuteTime": {
     "end_time": "2022-12-09T11:59:56.473522Z",
     "start_time": "2022-12-09T11:59:56.461521Z"
    }
   },
   "outputs": [
    {
     "data": {
      "text/plain": [
       "8"
      ]
     },
     "execution_count": 53,
     "metadata": {},
     "output_type": "execute_result"
    }
   ],
   "source": [
    "a ** b"
   ]
  },
  {
   "cell_type": "code",
   "execution_count": 55,
   "id": "1b1bd477",
   "metadata": {
    "ExecuteTime": {
     "end_time": "2022-12-09T12:00:16.707400Z",
     "start_time": "2022-12-09T12:00:16.695361Z"
    }
   },
   "outputs": [
    {
     "data": {
      "text/plain": [
       "1.2599210498948732"
      ]
     },
     "execution_count": 55,
     "metadata": {},
     "output_type": "execute_result"
    }
   ],
   "source": [
    "a ** (1/b)"
   ]
  },
  {
   "cell_type": "code",
   "execution_count": 56,
   "id": "ab759799",
   "metadata": {
    "ExecuteTime": {
     "end_time": "2022-12-09T12:00:18.512305Z",
     "start_time": "2022-12-09T12:00:18.496304Z"
    }
   },
   "outputs": [
    {
     "data": {
      "text/plain": [
       "2"
      ]
     },
     "execution_count": 56,
     "metadata": {},
     "output_type": "execute_result"
    }
   ],
   "source": [
    "a % b"
   ]
  },
  {
   "cell_type": "code",
   "execution_count": 57,
   "id": "1c43d6ab",
   "metadata": {
    "ExecuteTime": {
     "end_time": "2022-12-09T12:00:25.144053Z",
     "start_time": "2022-12-09T12:00:25.127053Z"
    }
   },
   "outputs": [
    {
     "data": {
      "text/plain": [
       "1"
      ]
     },
     "execution_count": 57,
     "metadata": {},
     "output_type": "execute_result"
    }
   ],
   "source": [
    "b % a"
   ]
  },
  {
   "cell_type": "markdown",
   "id": "55eb2050",
   "metadata": {
    "ExecuteTime": {
     "end_time": "2022-12-09T12:01:45.602899Z",
     "start_time": "2022-12-09T12:01:45.584862Z"
    }
   },
   "source": [
    "#### Karşılaştırma Operatörleri"
   ]
  },
  {
   "cell_type": "code",
   "execution_count": 10,
   "id": "7e2279c0",
   "metadata": {
    "ExecuteTime": {
     "end_time": "2022-12-09T16:18:38.381166Z",
     "start_time": "2022-12-09T16:18:38.362736Z"
    }
   },
   "outputs": [],
   "source": [
    "a = 5\n",
    "b = 7"
   ]
  },
  {
   "cell_type": "code",
   "execution_count": 12,
   "id": "f2d5007a",
   "metadata": {
    "ExecuteTime": {
     "end_time": "2022-12-09T16:20:37.237463Z",
     "start_time": "2022-12-09T16:20:37.223428Z"
    }
   },
   "outputs": [
    {
     "name": "stdout",
     "output_type": "stream",
     "text": [
      "False\n"
     ]
    }
   ],
   "source": [
    "print(a > b)"
   ]
  },
  {
   "cell_type": "code",
   "execution_count": 62,
   "id": "e55dcfbb",
   "metadata": {
    "ExecuteTime": {
     "end_time": "2022-12-09T12:02:42.073198Z",
     "start_time": "2022-12-09T12:02:42.067198Z"
    }
   },
   "outputs": [
    {
     "data": {
      "text/plain": [
       "True"
      ]
     },
     "execution_count": 62,
     "metadata": {},
     "output_type": "execute_result"
    }
   ],
   "source": [
    "a < b"
   ]
  },
  {
   "cell_type": "code",
   "execution_count": 63,
   "id": "62706a74",
   "metadata": {
    "ExecuteTime": {
     "end_time": "2022-12-09T12:02:43.318076Z",
     "start_time": "2022-12-09T12:02:43.311036Z"
    }
   },
   "outputs": [
    {
     "data": {
      "text/plain": [
       "False"
      ]
     },
     "execution_count": 63,
     "metadata": {},
     "output_type": "execute_result"
    }
   ],
   "source": [
    "a == b"
   ]
  },
  {
   "cell_type": "code",
   "execution_count": 64,
   "id": "b063b4ed",
   "metadata": {
    "ExecuteTime": {
     "end_time": "2022-12-09T12:02:45.340792Z",
     "start_time": "2022-12-09T12:02:45.325828Z"
    }
   },
   "outputs": [
    {
     "data": {
      "text/plain": [
       "False"
      ]
     },
     "execution_count": 64,
     "metadata": {},
     "output_type": "execute_result"
    }
   ],
   "source": [
    "a is b"
   ]
  },
  {
   "cell_type": "code",
   "execution_count": 65,
   "id": "95a5f226",
   "metadata": {
    "ExecuteTime": {
     "end_time": "2022-12-09T12:02:47.681327Z",
     "start_time": "2022-12-09T12:02:47.661323Z"
    }
   },
   "outputs": [
    {
     "data": {
      "text/plain": [
       "True"
      ]
     },
     "execution_count": 65,
     "metadata": {},
     "output_type": "execute_result"
    }
   ],
   "source": [
    "a != b"
   ]
  },
  {
   "cell_type": "code",
   "execution_count": 66,
   "id": "0825cb4a",
   "metadata": {
    "ExecuteTime": {
     "end_time": "2022-12-09T12:02:51.707733Z",
     "start_time": "2022-12-09T12:02:51.689719Z"
    }
   },
   "outputs": [
    {
     "data": {
      "text/plain": [
       "True"
      ]
     },
     "execution_count": 66,
     "metadata": {},
     "output_type": "execute_result"
    }
   ],
   "source": [
    "a is not b"
   ]
  },
  {
   "cell_type": "code",
   "execution_count": 13,
   "id": "1c9a01c4",
   "metadata": {
    "ExecuteTime": {
     "end_time": "2022-12-09T16:21:19.931374Z",
     "start_time": "2022-12-09T16:21:19.924447Z"
    }
   },
   "outputs": [
    {
     "name": "stdout",
     "output_type": "stream",
     "text": [
      "15.205295600000001\n"
     ]
    }
   ],
   "source": [
    "pi = 3.14159\n",
    "radius = 2.2\n",
    "# area of circle equation <- this is a comment\n",
    "area = pi*(radius**2)\n",
    "print(area)"
   ]
  },
  {
   "cell_type": "code",
   "execution_count": 67,
   "id": "87f01094",
   "metadata": {
    "ExecuteTime": {
     "end_time": "2022-12-09T12:07:36.303273Z",
     "start_time": "2022-12-09T12:07:36.297303Z"
    }
   },
   "outputs": [],
   "source": [
    "# Bu bir yorum satırıdır."
   ]
  },
  {
   "cell_type": "code",
   "execution_count": 70,
   "id": "3876f57e",
   "metadata": {
    "ExecuteTime": {
     "end_time": "2022-12-09T12:08:04.439653Z",
     "start_time": "2022-12-09T12:08:04.427652Z"
    }
   },
   "outputs": [
    {
     "data": {
      "text/plain": [
       "5"
      ]
     },
     "execution_count": 70,
     "metadata": {},
     "output_type": "execute_result"
    }
   ],
   "source": [
    "\"\"\"\n",
    "Bu bir çoklu\n",
    "yorum satırıdır.\n",
    "\"\"\"\n",
    "\n",
    "a"
   ]
  },
  {
   "cell_type": "markdown",
   "id": "b7c91b0b",
   "metadata": {},
   "source": [
    "### String'ler"
   ]
  },
  {
   "cell_type": "code",
   "execution_count": 15,
   "id": "9e5aa648",
   "metadata": {
    "ExecuteTime": {
     "end_time": "2022-12-09T16:25:38.565302Z",
     "start_time": "2022-12-09T16:25:38.556302Z"
    }
   },
   "outputs": [
    {
     "data": {
      "text/plain": [
       "'Name Surname'"
      ]
     },
     "execution_count": 15,
     "metadata": {},
     "output_type": "execute_result"
    }
   ],
   "source": [
    "kullanici_ismi = \"Name Surname\"\n",
    "kullanici_ismi"
   ]
  },
  {
   "cell_type": "code",
   "execution_count": 16,
   "id": "b742afa8",
   "metadata": {
    "ExecuteTime": {
     "end_time": "2022-12-09T16:26:22.237201Z",
     "start_time": "2022-12-09T16:26:22.222164Z"
    }
   },
   "outputs": [
    {
     "data": {
      "text/plain": [
       "'Welcome Name Surname'"
      ]
     },
     "execution_count": 16,
     "metadata": {},
     "output_type": "execute_result"
    }
   ],
   "source": [
    "karşılama = \"Welcome \"\n",
    "\n",
    "karşılama + kullanici_ismi"
   ]
  },
  {
   "cell_type": "code",
   "execution_count": 80,
   "id": "0f708b51",
   "metadata": {
    "ExecuteTime": {
     "end_time": "2022-12-09T12:11:36.003913Z",
     "start_time": "2022-12-09T12:11:35.992913Z"
    }
   },
   "outputs": [
    {
     "name": "stdout",
     "output_type": "stream",
     "text": [
      "Welcome Name Surname\n",
      "Welcome Name Surname\n",
      "Welcome Name Surname\n",
      "\n"
     ]
    }
   ],
   "source": [
    "print((karşılama + isim + \"\\n\") * 3)"
   ]
  },
  {
   "cell_type": "code",
   "execution_count": 18,
   "id": "17ef5259",
   "metadata": {
    "ExecuteTime": {
     "end_time": "2022-12-09T16:30:09.643887Z",
     "start_time": "2022-12-09T16:30:09.629851Z"
    }
   },
   "outputs": [
    {
     "name": "stdout",
     "output_type": "stream",
     "text": [
      "Birisi 20 yaşında\n"
     ]
    }
   ],
   "source": [
    "x = 20\n",
    "print(\"Birisi \" + str(x) + \" yaşında\")"
   ]
  },
  {
   "cell_type": "code",
   "execution_count": 23,
   "id": "011aa562",
   "metadata": {
    "ExecuteTime": {
     "end_time": "2022-12-09T16:34:52.541673Z",
     "start_time": "2022-12-09T16:34:51.034930Z"
    }
   },
   "outputs": [
    {
     "name": "stdout",
     "output_type": "stream",
     "text": [
      "Bir kullanıcı adı giriniz: 5\n",
      "25\n"
     ]
    }
   ],
   "source": [
    "username = int(input(\"Bir kullanıcı adı giriniz: \"))\n",
    "print(5*username)"
   ]
  },
  {
   "cell_type": "code",
   "execution_count": 30,
   "id": "7e1aa77f",
   "metadata": {
    "ExecuteTime": {
     "end_time": "2022-12-09T16:45:00.112986Z",
     "start_time": "2022-12-09T16:45:00.100986Z"
    }
   },
   "outputs": [
    {
     "ename": "SyntaxError",
     "evalue": "invalid syntax (2420123481.py, line 4)",
     "output_type": "error",
     "traceback": [
      "\u001b[1;36m  Input \u001b[1;32mIn [30]\u001b[1;36m\u001b[0m\n\u001b[1;33m    elif ( 18 <= yaş <= 40):\u001b[0m\n\u001b[1;37m    ^\u001b[0m\n\u001b[1;31mSyntaxError\u001b[0m\u001b[1;31m:\u001b[0m invalid syntax\n"
     ]
    }
   ],
   "source": [
    "yaş = int(input(\"Yaşınızı giriniz: \"))\n",
    "\n",
    "if ( 0 < yaş < 18 ):\n",
    "    print(\"Buraya giremezsin\")\n",
    "elif ( 18 <= yaş <= 40):\n",
    "    print(\"Buraya girebilirsin.\")\n",
    "else:\n",
    "    print(\"---\")"
   ]
  },
  {
   "cell_type": "markdown",
   "id": "1ccd81cf",
   "metadata": {},
   "source": [
    "#### Metotlar"
   ]
  },
  {
   "cell_type": "code",
   "execution_count": 31,
   "id": "0c919ea2",
   "metadata": {
    "ExecuteTime": {
     "end_time": "2022-12-09T16:46:25.545395Z",
     "start_time": "2022-12-09T16:46:25.528396Z"
    }
   },
   "outputs": [],
   "source": [
    "title = \"GDSC Python Eğitimi\""
   ]
  },
  {
   "cell_type": "code",
   "execution_count": 83,
   "id": "a2e75ce5",
   "metadata": {
    "ExecuteTime": {
     "end_time": "2022-12-09T12:15:13.504956Z",
     "start_time": "2022-12-09T12:15:13.490969Z"
    }
   },
   "outputs": [
    {
     "data": {
      "text/plain": [
       "19"
      ]
     },
     "execution_count": 83,
     "metadata": {},
     "output_type": "execute_result"
    }
   ],
   "source": [
    "len(title)"
   ]
  },
  {
   "cell_type": "code",
   "execution_count": 84,
   "id": "9ffc3738",
   "metadata": {
    "ExecuteTime": {
     "end_time": "2022-12-09T12:15:14.223999Z",
     "start_time": "2022-12-09T12:15:14.205990Z"
    }
   },
   "outputs": [
    {
     "data": {
      "text/plain": [
       "'GDSC PYTHON EĞITIMI'"
      ]
     },
     "execution_count": 84,
     "metadata": {},
     "output_type": "execute_result"
    }
   ],
   "source": [
    "title.upper()"
   ]
  },
  {
   "cell_type": "code",
   "execution_count": 85,
   "id": "bc20ae7d",
   "metadata": {
    "ExecuteTime": {
     "end_time": "2022-12-09T12:15:17.197407Z",
     "start_time": "2022-12-09T12:15:17.179398Z"
    }
   },
   "outputs": [
    {
     "data": {
      "text/plain": [
       "'gdsc python eğitimi'"
      ]
     },
     "execution_count": 85,
     "metadata": {},
     "output_type": "execute_result"
    }
   ],
   "source": [
    "title.lower()"
   ]
  },
  {
   "cell_type": "code",
   "execution_count": 88,
   "id": "614232cc",
   "metadata": {
    "ExecuteTime": {
     "end_time": "2022-12-09T12:15:50.793483Z",
     "start_time": "2022-12-09T12:15:50.780457Z"
    }
   },
   "outputs": [],
   "source": [
    "broken_title = \"GDsC PyTHon eĞitİmi\""
   ]
  },
  {
   "cell_type": "code",
   "execution_count": 89,
   "id": "77431a0b",
   "metadata": {
    "ExecuteTime": {
     "end_time": "2022-12-09T12:15:53.011648Z",
     "start_time": "2022-12-09T12:15:53.005648Z"
    }
   },
   "outputs": [
    {
     "data": {
      "text/plain": [
       "'Gdsc python eğiti̇mi'"
      ]
     },
     "execution_count": 89,
     "metadata": {},
     "output_type": "execute_result"
    }
   ],
   "source": [
    "broken_title.capitalize()"
   ]
  },
  {
   "cell_type": "code",
   "execution_count": 90,
   "id": "c6f20e26",
   "metadata": {
    "ExecuteTime": {
     "end_time": "2022-12-09T12:15:54.476262Z",
     "start_time": "2022-12-09T12:15:54.465267Z"
    }
   },
   "outputs": [
    {
     "data": {
      "text/plain": [
       "'Gdsc Python Eğiti̇mi'"
      ]
     },
     "execution_count": 90,
     "metadata": {},
     "output_type": "execute_result"
    }
   ],
   "source": [
    "broken_title.title()"
   ]
  },
  {
   "cell_type": "code",
   "execution_count": 93,
   "id": "64a9bb4a",
   "metadata": {
    "ExecuteTime": {
     "end_time": "2022-12-09T12:18:10.538127Z",
     "start_time": "2022-12-09T12:18:10.521128Z"
    }
   },
   "outputs": [
    {
     "data": {
      "text/plain": [
       "'Google DSC Python Eğitimi'"
      ]
     },
     "execution_count": 93,
     "metadata": {},
     "output_type": "execute_result"
    }
   ],
   "source": [
    "title.replace(\"GDSC\", \"Google DSC\")"
   ]
  },
  {
   "cell_type": "code",
   "execution_count": 32,
   "id": "0ccd0369",
   "metadata": {
    "ExecuteTime": {
     "end_time": "2022-12-09T16:49:31.955769Z",
     "start_time": "2022-12-09T16:49:31.934731Z"
    }
   },
   "outputs": [
    {
     "data": {
      "text/plain": [
       "'GDSC Python Eğitimi'"
      ]
     },
     "execution_count": 32,
     "metadata": {},
     "output_type": "execute_result"
    }
   ],
   "source": [
    "title"
   ]
  },
  {
   "cell_type": "code",
   "execution_count": 96,
   "id": "45babd40",
   "metadata": {
    "ExecuteTime": {
     "end_time": "2022-12-09T12:19:44.596926Z",
     "start_time": "2022-12-09T12:19:44.583938Z"
    }
   },
   "outputs": [
    {
     "data": {
      "text/plain": [
       "'GDSCPythonEğitimi'"
      ]
     },
     "execution_count": 96,
     "metadata": {},
     "output_type": "execute_result"
    }
   ],
   "source": [
    "title.replace(\" \", \"\")"
   ]
  },
  {
   "cell_type": "code",
   "execution_count": 36,
   "id": "e08a9b10",
   "metadata": {
    "ExecuteTime": {
     "end_time": "2022-12-09T16:51:05.189842Z",
     "start_time": "2022-12-09T16:51:05.170804Z"
    }
   },
   "outputs": [
    {
     "data": {
      "text/plain": [
       "'afd * sfd'"
      ]
     },
     "execution_count": 36,
     "metadata": {},
     "output_type": "execute_result"
    }
   ],
   "source": [
    "deneme = \"*afd * sfd*\"\n",
    "deneme.strip(\"*\")"
   ]
  },
  {
   "cell_type": "code",
   "execution_count": 98,
   "id": "bc06e684",
   "metadata": {
    "ExecuteTime": {
     "end_time": "2022-12-09T12:20:01.817167Z",
     "start_time": "2022-12-09T12:20:01.809168Z"
    }
   },
   "outputs": [
    {
     "data": {
      "text/plain": [
       "'GDSC'"
      ]
     },
     "execution_count": 98,
     "metadata": {},
     "output_type": "execute_result"
    }
   ],
   "source": [
    "new_title = \"   GDSC\"\n",
    "new_title.strip(\" \")"
   ]
  },
  {
   "cell_type": "code",
   "execution_count": 100,
   "id": "bd4b622e",
   "metadata": {
    "ExecuteTime": {
     "end_time": "2022-12-09T12:20:37.281797Z",
     "start_time": "2022-12-09T12:20:37.261760Z"
    }
   },
   "outputs": [
    {
     "data": {
      "text/plain": [
       "['GDSC', 'Python', 'Eğitimi']"
      ]
     },
     "execution_count": 100,
     "metadata": {},
     "output_type": "execute_result"
    }
   ],
   "source": [
    "title.split()"
   ]
  },
  {
   "cell_type": "code",
   "execution_count": 101,
   "id": "37669c00",
   "metadata": {
    "ExecuteTime": {
     "end_time": "2022-12-09T12:20:53.327073Z",
     "start_time": "2022-12-09T12:20:53.314110Z"
    },
    "scrolled": true
   },
   "outputs": [
    {
     "data": {
      "text/plain": [
       "['__add__',\n",
       " '__class__',\n",
       " '__contains__',\n",
       " '__delattr__',\n",
       " '__dir__',\n",
       " '__doc__',\n",
       " '__eq__',\n",
       " '__format__',\n",
       " '__ge__',\n",
       " '__getattribute__',\n",
       " '__getitem__',\n",
       " '__getnewargs__',\n",
       " '__gt__',\n",
       " '__hash__',\n",
       " '__init__',\n",
       " '__init_subclass__',\n",
       " '__iter__',\n",
       " '__le__',\n",
       " '__len__',\n",
       " '__lt__',\n",
       " '__mod__',\n",
       " '__mul__',\n",
       " '__ne__',\n",
       " '__new__',\n",
       " '__reduce__',\n",
       " '__reduce_ex__',\n",
       " '__repr__',\n",
       " '__rmod__',\n",
       " '__rmul__',\n",
       " '__setattr__',\n",
       " '__sizeof__',\n",
       " '__str__',\n",
       " '__subclasshook__',\n",
       " 'capitalize',\n",
       " 'casefold',\n",
       " 'center',\n",
       " 'count',\n",
       " 'encode',\n",
       " 'endswith',\n",
       " 'expandtabs',\n",
       " 'find',\n",
       " 'format',\n",
       " 'format_map',\n",
       " 'index',\n",
       " 'isalnum',\n",
       " 'isalpha',\n",
       " 'isascii',\n",
       " 'isdecimal',\n",
       " 'isdigit',\n",
       " 'isidentifier',\n",
       " 'islower',\n",
       " 'isnumeric',\n",
       " 'isprintable',\n",
       " 'isspace',\n",
       " 'istitle',\n",
       " 'isupper',\n",
       " 'join',\n",
       " 'ljust',\n",
       " 'lower',\n",
       " 'lstrip',\n",
       " 'maketrans',\n",
       " 'partition',\n",
       " 'removeprefix',\n",
       " 'removesuffix',\n",
       " 'replace',\n",
       " 'rfind',\n",
       " 'rindex',\n",
       " 'rjust',\n",
       " 'rpartition',\n",
       " 'rsplit',\n",
       " 'rstrip',\n",
       " 'split',\n",
       " 'splitlines',\n",
       " 'startswith',\n",
       " 'strip',\n",
       " 'swapcase',\n",
       " 'title',\n",
       " 'translate',\n",
       " 'upper',\n",
       " 'zfill']"
      ]
     },
     "execution_count": 101,
     "metadata": {},
     "output_type": "execute_result"
    }
   ],
   "source": [
    "dir(title)"
   ]
  },
  {
   "cell_type": "code",
   "execution_count": 102,
   "id": "b6bd0879",
   "metadata": {
    "ExecuteTime": {
     "end_time": "2022-12-09T12:21:04.281718Z",
     "start_time": "2022-12-09T12:21:04.257681Z"
    },
    "scrolled": true
   },
   "outputs": [
    {
     "name": "stdout",
     "output_type": "stream",
     "text": [
      "Help on class str in module builtins:\n",
      "\n",
      "class str(object)\n",
      " |  str(object='') -> str\n",
      " |  str(bytes_or_buffer[, encoding[, errors]]) -> str\n",
      " |  \n",
      " |  Create a new string object from the given object. If encoding or\n",
      " |  errors is specified, then the object must expose a data buffer\n",
      " |  that will be decoded using the given encoding and error handler.\n",
      " |  Otherwise, returns the result of object.__str__() (if defined)\n",
      " |  or repr(object).\n",
      " |  encoding defaults to sys.getdefaultencoding().\n",
      " |  errors defaults to 'strict'.\n",
      " |  \n",
      " |  Methods defined here:\n",
      " |  \n",
      " |  __add__(self, value, /)\n",
      " |      Return self+value.\n",
      " |  \n",
      " |  __contains__(self, key, /)\n",
      " |      Return key in self.\n",
      " |  \n",
      " |  __eq__(self, value, /)\n",
      " |      Return self==value.\n",
      " |  \n",
      " |  __format__(self, format_spec, /)\n",
      " |      Return a formatted version of the string as described by format_spec.\n",
      " |  \n",
      " |  __ge__(self, value, /)\n",
      " |      Return self>=value.\n",
      " |  \n",
      " |  __getattribute__(self, name, /)\n",
      " |      Return getattr(self, name).\n",
      " |  \n",
      " |  __getitem__(self, key, /)\n",
      " |      Return self[key].\n",
      " |  \n",
      " |  __getnewargs__(...)\n",
      " |  \n",
      " |  __gt__(self, value, /)\n",
      " |      Return self>value.\n",
      " |  \n",
      " |  __hash__(self, /)\n",
      " |      Return hash(self).\n",
      " |  \n",
      " |  __iter__(self, /)\n",
      " |      Implement iter(self).\n",
      " |  \n",
      " |  __le__(self, value, /)\n",
      " |      Return self<=value.\n",
      " |  \n",
      " |  __len__(self, /)\n",
      " |      Return len(self).\n",
      " |  \n",
      " |  __lt__(self, value, /)\n",
      " |      Return self<value.\n",
      " |  \n",
      " |  __mod__(self, value, /)\n",
      " |      Return self%value.\n",
      " |  \n",
      " |  __mul__(self, value, /)\n",
      " |      Return self*value.\n",
      " |  \n",
      " |  __ne__(self, value, /)\n",
      " |      Return self!=value.\n",
      " |  \n",
      " |  __repr__(self, /)\n",
      " |      Return repr(self).\n",
      " |  \n",
      " |  __rmod__(self, value, /)\n",
      " |      Return value%self.\n",
      " |  \n",
      " |  __rmul__(self, value, /)\n",
      " |      Return value*self.\n",
      " |  \n",
      " |  __sizeof__(self, /)\n",
      " |      Return the size of the string in memory, in bytes.\n",
      " |  \n",
      " |  __str__(self, /)\n",
      " |      Return str(self).\n",
      " |  \n",
      " |  capitalize(self, /)\n",
      " |      Return a capitalized version of the string.\n",
      " |      \n",
      " |      More specifically, make the first character have upper case and the rest lower\n",
      " |      case.\n",
      " |  \n",
      " |  casefold(self, /)\n",
      " |      Return a version of the string suitable for caseless comparisons.\n",
      " |  \n",
      " |  center(self, width, fillchar=' ', /)\n",
      " |      Return a centered string of length width.\n",
      " |      \n",
      " |      Padding is done using the specified fill character (default is a space).\n",
      " |  \n",
      " |  count(...)\n",
      " |      S.count(sub[, start[, end]]) -> int\n",
      " |      \n",
      " |      Return the number of non-overlapping occurrences of substring sub in\n",
      " |      string S[start:end].  Optional arguments start and end are\n",
      " |      interpreted as in slice notation.\n",
      " |  \n",
      " |  encode(self, /, encoding='utf-8', errors='strict')\n",
      " |      Encode the string using the codec registered for encoding.\n",
      " |      \n",
      " |      encoding\n",
      " |        The encoding in which to encode the string.\n",
      " |      errors\n",
      " |        The error handling scheme to use for encoding errors.\n",
      " |        The default is 'strict' meaning that encoding errors raise a\n",
      " |        UnicodeEncodeError.  Other possible values are 'ignore', 'replace' and\n",
      " |        'xmlcharrefreplace' as well as any other name registered with\n",
      " |        codecs.register_error that can handle UnicodeEncodeErrors.\n",
      " |  \n",
      " |  endswith(...)\n",
      " |      S.endswith(suffix[, start[, end]]) -> bool\n",
      " |      \n",
      " |      Return True if S ends with the specified suffix, False otherwise.\n",
      " |      With optional start, test S beginning at that position.\n",
      " |      With optional end, stop comparing S at that position.\n",
      " |      suffix can also be a tuple of strings to try.\n",
      " |  \n",
      " |  expandtabs(self, /, tabsize=8)\n",
      " |      Return a copy where all tab characters are expanded using spaces.\n",
      " |      \n",
      " |      If tabsize is not given, a tab size of 8 characters is assumed.\n",
      " |  \n",
      " |  find(...)\n",
      " |      S.find(sub[, start[, end]]) -> int\n",
      " |      \n",
      " |      Return the lowest index in S where substring sub is found,\n",
      " |      such that sub is contained within S[start:end].  Optional\n",
      " |      arguments start and end are interpreted as in slice notation.\n",
      " |      \n",
      " |      Return -1 on failure.\n",
      " |  \n",
      " |  format(...)\n",
      " |      S.format(*args, **kwargs) -> str\n",
      " |      \n",
      " |      Return a formatted version of S, using substitutions from args and kwargs.\n",
      " |      The substitutions are identified by braces ('{' and '}').\n",
      " |  \n",
      " |  format_map(...)\n",
      " |      S.format_map(mapping) -> str\n",
      " |      \n",
      " |      Return a formatted version of S, using substitutions from mapping.\n",
      " |      The substitutions are identified by braces ('{' and '}').\n",
      " |  \n",
      " |  index(...)\n",
      " |      S.index(sub[, start[, end]]) -> int\n",
      " |      \n",
      " |      Return the lowest index in S where substring sub is found,\n",
      " |      such that sub is contained within S[start:end].  Optional\n",
      " |      arguments start and end are interpreted as in slice notation.\n",
      " |      \n",
      " |      Raises ValueError when the substring is not found.\n",
      " |  \n",
      " |  isalnum(self, /)\n",
      " |      Return True if the string is an alpha-numeric string, False otherwise.\n",
      " |      \n",
      " |      A string is alpha-numeric if all characters in the string are alpha-numeric and\n",
      " |      there is at least one character in the string.\n",
      " |  \n",
      " |  isalpha(self, /)\n",
      " |      Return True if the string is an alphabetic string, False otherwise.\n",
      " |      \n",
      " |      A string is alphabetic if all characters in the string are alphabetic and there\n",
      " |      is at least one character in the string.\n",
      " |  \n",
      " |  isascii(self, /)\n",
      " |      Return True if all characters in the string are ASCII, False otherwise.\n",
      " |      \n",
      " |      ASCII characters have code points in the range U+0000-U+007F.\n",
      " |      Empty string is ASCII too.\n",
      " |  \n",
      " |  isdecimal(self, /)\n",
      " |      Return True if the string is a decimal string, False otherwise.\n",
      " |      \n",
      " |      A string is a decimal string if all characters in the string are decimal and\n",
      " |      there is at least one character in the string.\n",
      " |  \n",
      " |  isdigit(self, /)\n",
      " |      Return True if the string is a digit string, False otherwise.\n",
      " |      \n",
      " |      A string is a digit string if all characters in the string are digits and there\n",
      " |      is at least one character in the string.\n",
      " |  \n",
      " |  isidentifier(self, /)\n",
      " |      Return True if the string is a valid Python identifier, False otherwise.\n",
      " |      \n",
      " |      Call keyword.iskeyword(s) to test whether string s is a reserved identifier,\n",
      " |      such as \"def\" or \"class\".\n",
      " |  \n",
      " |  islower(self, /)\n",
      " |      Return True if the string is a lowercase string, False otherwise.\n",
      " |      \n",
      " |      A string is lowercase if all cased characters in the string are lowercase and\n",
      " |      there is at least one cased character in the string.\n",
      " |  \n",
      " |  isnumeric(self, /)\n",
      " |      Return True if the string is a numeric string, False otherwise.\n",
      " |      \n",
      " |      A string is numeric if all characters in the string are numeric and there is at\n",
      " |      least one character in the string.\n",
      " |  \n",
      " |  isprintable(self, /)\n",
      " |      Return True if the string is printable, False otherwise.\n",
      " |      \n",
      " |      A string is printable if all of its characters are considered printable in\n",
      " |      repr() or if it is empty.\n",
      " |  \n",
      " |  isspace(self, /)\n",
      " |      Return True if the string is a whitespace string, False otherwise.\n",
      " |      \n",
      " |      A string is whitespace if all characters in the string are whitespace and there\n",
      " |      is at least one character in the string.\n",
      " |  \n",
      " |  istitle(self, /)\n",
      " |      Return True if the string is a title-cased string, False otherwise.\n",
      " |      \n",
      " |      In a title-cased string, upper- and title-case characters may only\n",
      " |      follow uncased characters and lowercase characters only cased ones.\n",
      " |  \n",
      " |  isupper(self, /)\n",
      " |      Return True if the string is an uppercase string, False otherwise.\n",
      " |      \n",
      " |      A string is uppercase if all cased characters in the string are uppercase and\n",
      " |      there is at least one cased character in the string.\n",
      " |  \n",
      " |  join(self, iterable, /)\n",
      " |      Concatenate any number of strings.\n",
      " |      \n",
      " |      The string whose method is called is inserted in between each given string.\n",
      " |      The result is returned as a new string.\n",
      " |      \n",
      " |      Example: '.'.join(['ab', 'pq', 'rs']) -> 'ab.pq.rs'\n",
      " |  \n",
      " |  ljust(self, width, fillchar=' ', /)\n",
      " |      Return a left-justified string of length width.\n",
      " |      \n",
      " |      Padding is done using the specified fill character (default is a space).\n",
      " |  \n",
      " |  lower(self, /)\n",
      " |      Return a copy of the string converted to lowercase.\n",
      " |  \n",
      " |  lstrip(self, chars=None, /)\n",
      " |      Return a copy of the string with leading whitespace removed.\n",
      " |      \n",
      " |      If chars is given and not None, remove characters in chars instead.\n",
      " |  \n",
      " |  partition(self, sep, /)\n",
      " |      Partition the string into three parts using the given separator.\n",
      " |      \n",
      " |      This will search for the separator in the string.  If the separator is found,\n",
      " |      returns a 3-tuple containing the part before the separator, the separator\n",
      " |      itself, and the part after it.\n",
      " |      \n",
      " |      If the separator is not found, returns a 3-tuple containing the original string\n",
      " |      and two empty strings.\n",
      " |  \n",
      " |  removeprefix(self, prefix, /)\n",
      " |      Return a str with the given prefix string removed if present.\n",
      " |      \n",
      " |      If the string starts with the prefix string, return string[len(prefix):].\n",
      " |      Otherwise, return a copy of the original string.\n",
      " |  \n",
      " |  removesuffix(self, suffix, /)\n",
      " |      Return a str with the given suffix string removed if present.\n",
      " |      \n",
      " |      If the string ends with the suffix string and that suffix is not empty,\n",
      " |      return string[:-len(suffix)]. Otherwise, return a copy of the original\n",
      " |      string.\n",
      " |  \n",
      " |  replace(self, old, new, count=-1, /)\n",
      " |      Return a copy with all occurrences of substring old replaced by new.\n",
      " |      \n",
      " |        count\n",
      " |          Maximum number of occurrences to replace.\n",
      " |          -1 (the default value) means replace all occurrences.\n",
      " |      \n",
      " |      If the optional argument count is given, only the first count occurrences are\n",
      " |      replaced.\n",
      " |  \n",
      " |  rfind(...)\n",
      " |      S.rfind(sub[, start[, end]]) -> int\n",
      " |      \n",
      " |      Return the highest index in S where substring sub is found,\n",
      " |      such that sub is contained within S[start:end].  Optional\n",
      " |      arguments start and end are interpreted as in slice notation.\n",
      " |      \n",
      " |      Return -1 on failure.\n",
      " |  \n",
      " |  rindex(...)\n",
      " |      S.rindex(sub[, start[, end]]) -> int\n",
      " |      \n",
      " |      Return the highest index in S where substring sub is found,\n",
      " |      such that sub is contained within S[start:end].  Optional\n",
      " |      arguments start and end are interpreted as in slice notation.\n",
      " |      \n",
      " |      Raises ValueError when the substring is not found.\n",
      " |  \n",
      " |  rjust(self, width, fillchar=' ', /)\n",
      " |      Return a right-justified string of length width.\n",
      " |      \n",
      " |      Padding is done using the specified fill character (default is a space).\n",
      " |  \n",
      " |  rpartition(self, sep, /)\n",
      " |      Partition the string into three parts using the given separator.\n",
      " |      \n",
      " |      This will search for the separator in the string, starting at the end. If\n",
      " |      the separator is found, returns a 3-tuple containing the part before the\n",
      " |      separator, the separator itself, and the part after it.\n",
      " |      \n",
      " |      If the separator is not found, returns a 3-tuple containing two empty strings\n",
      " |      and the original string.\n",
      " |  \n",
      " |  rsplit(self, /, sep=None, maxsplit=-1)\n",
      " |      Return a list of the words in the string, using sep as the delimiter string.\n",
      " |      \n",
      " |        sep\n",
      " |          The delimiter according which to split the string.\n",
      " |          None (the default value) means split according to any whitespace,\n",
      " |          and discard empty strings from the result.\n",
      " |        maxsplit\n",
      " |          Maximum number of splits to do.\n",
      " |          -1 (the default value) means no limit.\n",
      " |      \n",
      " |      Splits are done starting at the end of the string and working to the front.\n",
      " |  \n",
      " |  rstrip(self, chars=None, /)\n",
      " |      Return a copy of the string with trailing whitespace removed.\n",
      " |      \n",
      " |      If chars is given and not None, remove characters in chars instead.\n",
      " |  \n",
      " |  split(self, /, sep=None, maxsplit=-1)\n",
      " |      Return a list of the words in the string, using sep as the delimiter string.\n",
      " |      \n",
      " |      sep\n",
      " |        The delimiter according which to split the string.\n",
      " |        None (the default value) means split according to any whitespace,\n",
      " |        and discard empty strings from the result.\n",
      " |      maxsplit\n",
      " |        Maximum number of splits to do.\n",
      " |        -1 (the default value) means no limit.\n",
      " |  \n",
      " |  splitlines(self, /, keepends=False)\n",
      " |      Return a list of the lines in the string, breaking at line boundaries.\n",
      " |      \n",
      " |      Line breaks are not included in the resulting list unless keepends is given and\n",
      " |      true.\n",
      " |  \n",
      " |  startswith(...)\n",
      " |      S.startswith(prefix[, start[, end]]) -> bool\n",
      " |      \n",
      " |      Return True if S starts with the specified prefix, False otherwise.\n",
      " |      With optional start, test S beginning at that position.\n",
      " |      With optional end, stop comparing S at that position.\n",
      " |      prefix can also be a tuple of strings to try.\n",
      " |  \n",
      " |  strip(self, chars=None, /)\n",
      " |      Return a copy of the string with leading and trailing whitespace removed.\n",
      " |      \n",
      " |      If chars is given and not None, remove characters in chars instead.\n",
      " |  \n",
      " |  swapcase(self, /)\n",
      " |      Convert uppercase characters to lowercase and lowercase characters to uppercase.\n",
      " |  \n",
      " |  title(self, /)\n",
      " |      Return a version of the string where each word is titlecased.\n",
      " |      \n",
      " |      More specifically, words start with uppercased characters and all remaining\n",
      " |      cased characters have lower case.\n",
      " |  \n",
      " |  translate(self, table, /)\n",
      " |      Replace each character in the string using the given translation table.\n",
      " |      \n",
      " |        table\n",
      " |          Translation table, which must be a mapping of Unicode ordinals to\n",
      " |          Unicode ordinals, strings, or None.\n",
      " |      \n",
      " |      The table must implement lookup/indexing via __getitem__, for instance a\n",
      " |      dictionary or list.  If this operation raises LookupError, the character is\n",
      " |      left untouched.  Characters mapped to None are deleted.\n",
      " |  \n",
      " |  upper(self, /)\n",
      " |      Return a copy of the string converted to uppercase.\n",
      " |  \n",
      " |  zfill(self, width, /)\n",
      " |      Pad a numeric string with zeros on the left, to fill a field of the given width.\n",
      " |      \n",
      " |      The string is never truncated.\n",
      " |  \n",
      " |  ----------------------------------------------------------------------\n",
      " |  Static methods defined here:\n",
      " |  \n",
      " |  __new__(*args, **kwargs) from builtins.type\n",
      " |      Create and return a new object.  See help(type) for accurate signature.\n",
      " |  \n",
      " |  maketrans(...)\n",
      " |      Return a translation table usable for str.translate().\n",
      " |      \n",
      " |      If there is only one argument, it must be a dictionary mapping Unicode\n",
      " |      ordinals (integers) or characters to Unicode ordinals, strings or None.\n",
      " |      Character keys will be then converted to ordinals.\n",
      " |      If there are two arguments, they must be strings of equal length, and\n",
      " |      in the resulting dictionary, each character in x will be mapped to the\n",
      " |      character at the same position in y. If there is a third argument, it\n",
      " |      must be a string, whose characters will be mapped to None in the result.\n",
      "\n"
     ]
    }
   ],
   "source": [
    "help(str)"
   ]
  },
  {
   "cell_type": "code",
   "execution_count": 103,
   "id": "4a3be834",
   "metadata": {
    "ExecuteTime": {
     "end_time": "2022-12-09T12:21:34.119984Z",
     "start_time": "2022-12-09T12:21:34.104985Z"
    }
   },
   "outputs": [
    {
     "name": "stdout",
     "output_type": "stream",
     "text": [
      "No Python documentation found for 'GDSC Python Eğitimi'.\n",
      "Use help() to get the interactive help utility.\n",
      "Use help(str) for help on the str class.\n",
      "\n"
     ]
    }
   ],
   "source": [
    "help(title)"
   ]
  },
  {
   "cell_type": "markdown",
   "id": "69c459b8",
   "metadata": {},
   "source": [
    "#### Kontrol Akışı"
   ]
  },
  {
   "cell_type": "code",
   "execution_count": 105,
   "id": "ce053654",
   "metadata": {
    "ExecuteTime": {
     "end_time": "2022-12-09T12:24:31.977685Z",
     "start_time": "2022-12-09T12:24:31.967685Z"
    }
   },
   "outputs": [
    {
     "name": "stdout",
     "output_type": "stream",
     "text": [
      "a <= b\n"
     ]
    }
   ],
   "source": [
    "a = 5\n",
    "b = 10\n",
    "\n",
    "if a > 5:\n",
    "    print(a)\n",
    "elif a is b:\n",
    "    print(b)\n",
    "else:\n",
    "    print(\"a <= b\")"
   ]
  },
  {
   "cell_type": "code",
   "execution_count": 107,
   "id": "a3cdc471",
   "metadata": {
    "ExecuteTime": {
     "end_time": "2022-12-09T12:25:31.207955Z",
     "start_time": "2022-12-09T12:25:24.862992Z"
    }
   },
   "outputs": [
    {
     "name": "stdout",
     "output_type": "stream",
     "text": [
      "Enter a number for x: 10\n",
      "Enter a number for y: 20\n",
      "x is smaller\n"
     ]
    }
   ],
   "source": [
    "x = float(input(\"Enter a number for x: \"))\n",
    "y = float(input(\"Enter a number for y: \"))\n",
    "if x == y:\n",
    "    print(\"x and y are equal\")\n",
    "    if y != 0:\n",
    "        print(\"therefore, x / y is\", x/y)\n",
    "elif x < y:\n",
    "    print(\"x is smaller\")\n",
    "else:\n",
    "    print(\"y is smaller\")\n",
    "    print(\"thanks!\")"
   ]
  },
  {
   "cell_type": "code",
   "execution_count": 38,
   "id": "c821856b",
   "metadata": {
    "ExecuteTime": {
     "end_time": "2022-12-09T17:14:08.776543Z",
     "start_time": "2022-12-09T17:14:08.771541Z"
    }
   },
   "outputs": [
    {
     "name": "stdout",
     "output_type": "stream",
     "text": [
      "40 <= k+l < 60\n"
     ]
    }
   ],
   "source": [
    "k = 30\n",
    "l = 15\n",
    "\n",
    "if 0 < (k + l) < 20:\n",
    "    print(\"k+l < 20\")\n",
    "elif ( k+l ) < 40:\n",
    "    print(\"20 <= k+l < 40\")\n",
    "elif ( k+l ) < 60:\n",
    "    print(\"40 <= k+l < 60\")\n"
   ]
  },
  {
   "cell_type": "code",
   "execution_count": 39,
   "id": "0c4c696c",
   "metadata": {
    "ExecuteTime": {
     "end_time": "2022-12-09T17:16:23.883568Z",
     "start_time": "2022-12-09T17:16:23.874536Z"
    }
   },
   "outputs": [
    {
     "name": "stdout",
     "output_type": "stream",
     "text": [
      "0\n",
      "2\n",
      "4\n",
      "6\n",
      "8\n",
      "10\n",
      "12\n",
      "14\n",
      "16\n",
      "18\n"
     ]
    }
   ],
   "source": [
    "for i in range(0, 10):\n",
    "    print(i*2)"
   ]
  },
  {
   "cell_type": "code",
   "execution_count": 112,
   "id": "51f96796",
   "metadata": {
    "ExecuteTime": {
     "end_time": "2022-12-09T12:27:31.478960Z",
     "start_time": "2022-12-09T12:27:31.469962Z"
    }
   },
   "outputs": [
    {
     "name": "stdout",
     "output_type": "stream",
     "text": [
      "*****\n",
      "*****\n",
      "*****\n",
      "*****\n",
      "*****\n"
     ]
    }
   ],
   "source": [
    "for i in range(5):\n",
    "    print(\"*\" * 5)"
   ]
  },
  {
   "cell_type": "markdown",
   "id": "ce2d7466",
   "metadata": {},
   "source": [
    "#### Break Durumu"
   ]
  },
  {
   "cell_type": "code",
   "execution_count": 152,
   "id": "de63aa0f",
   "metadata": {
    "ExecuteTime": {
     "end_time": "2022-12-09T12:46:12.689107Z",
     "start_time": "2022-12-09T12:46:12.676068Z"
    }
   },
   "outputs": [
    {
     "name": "stdout",
     "output_type": "stream",
     "text": [
      "12\n"
     ]
    }
   ],
   "source": [
    "mysum = 0\n",
    "for i in range(5, 11, 2):\n",
    "    mysum += i\n",
    "    if mysum == 12:\n",
    "        break\n",
    "        mysum += 1\n",
    "print(mysum)"
   ]
  },
  {
   "cell_type": "code",
   "execution_count": 40,
   "id": "28a90f5f",
   "metadata": {
    "ExecuteTime": {
     "end_time": "2022-12-09T17:21:17.705158Z",
     "start_time": "2022-12-09T17:21:17.685156Z"
    }
   },
   "outputs": [
    {
     "name": "stdout",
     "output_type": "stream",
     "text": [
      "0\n",
      "1\n",
      "2\n"
     ]
    }
   ],
   "source": [
    "n = 0\n",
    "while n < 5:\n",
    "    if n == 3:\n",
    "        break\n",
    "    print(n)\n",
    "    n = n+1"
   ]
  },
  {
   "cell_type": "markdown",
   "id": "138a800d",
   "metadata": {},
   "source": [
    "### Ders Ödevi I\n",
    "\n",
    "1. Kullanıcıdan iki adet integer girdisi alın\n",
    "2. Bu 2 adet integer için karşılaştırma yapın.\n",
    "\n",
    "```\n",
    "Girdi 1: 5\n",
    "Girdi 2: 10\n",
    "\n",
    ">> 2. sayı 1. sayıdan büyüktür.\n",
    "```"
   ]
  },
  {
   "cell_type": "code",
   "execution_count": 41,
   "id": "a933cfab",
   "metadata": {
    "ExecuteTime": {
     "end_time": "2022-12-09T17:25:01.645503Z",
     "start_time": "2022-12-09T17:24:58.439278Z"
    }
   },
   "outputs": [
    {
     "name": "stdout",
     "output_type": "stream",
     "text": [
      "Girdi 1: 10\n",
      "Girdi 2: 20\n",
      "2. sayı 1. sayıdan büyüktür.\n"
     ]
    }
   ],
   "source": [
    "a = int(input(\"Girdi 1: \"))\n",
    "b = int(input(\"Girdi 2: \"))\n",
    "\n",
    "if a > b:\n",
    "    print (\"1. sayı 2. sayıdan büyüktür\")\n",
    "elif a == b:\n",
    "    print(\"2 sayı birbirine eşittir.\")\n",
    "else:\n",
    "    print(\"2. sayı 1. sayıdan büyüktür.\")"
   ]
  },
  {
   "cell_type": "markdown",
   "id": "84e94d3e",
   "metadata": {},
   "source": [
    "### Ders Ödevi II\n",
    "\n",
    "1. Kullanıcıdan bir integer girdisi alın.\n",
    "\n",
    "2. for loop kullanarak her satırda 1'den alınan girdiye kadar aşağıdaki yılbaşı ağacını bastırınız.\n",
    "\n",
    "```\n",
    "Örnek\n",
    "\n",
    "Yılbaşı ağacı uzunluğu: 10\n",
    "\n",
    "         *        \n",
    "        ***       \n",
    "       *****      \n",
    "      *******     \n",
    "     *********    \n",
    "    ***********   \n",
    "   *************  \n",
    "  *************** \n",
    " *****************\n",
    "*******************\n",
    "```"
   ]
  }
 ],
 "metadata": {
  "kernelspec": {
   "display_name": "Python 3 (ipykernel)",
   "language": "python",
   "name": "python3"
  },
  "language_info": {
   "codemirror_mode": {
    "name": "ipython",
    "version": 3
   },
   "file_extension": ".py",
   "mimetype": "text/x-python",
   "name": "python",
   "nbconvert_exporter": "python",
   "pygments_lexer": "ipython3",
   "version": "3.9.12"
  }
 },
 "nbformat": 4,
 "nbformat_minor": 5
}
