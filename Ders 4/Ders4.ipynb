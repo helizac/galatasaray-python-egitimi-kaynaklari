{
 "cells": [
  {
   "cell_type": "markdown",
   "id": "fbbb6852",
   "metadata": {},
   "source": [
    "# Class Yapısı"
   ]
  },
  {
   "cell_type": "markdown",
   "id": "c207bd9d",
   "metadata": {},
   "source": [
    "###### Sınıf, nesnelerin oluşturulduğu kullanıcı tanımlı bir plan veya prototiptir.\n",
    "###### Sınıflar, verileri ve işlevselliği bir araya getirmek için bir araç sağlar.\n",
    "###### Yeni bir sınıf oluşturmak, yeni bir nesne türü oluşturur ve bu türün yeni örneklerinin yapılmasına izin verir.\n",
    "###### Her sınıf örneği, durumunu korumak için kendisine eklenmiş özniteliklere sahip olabilir.\n",
    "###### Sınıf örnekleri, durumlarını değiştirmek için (sınıfları tarafından tanımlanan) yöntemlere de sahip olabilir."
   ]
  },
  {
   "cell_type": "markdown",
   "id": "14292dba",
   "metadata": {},
   "source": [
    "Python'da bir sınıf oluşturma ihtiyacını anlamak için bir örnek ele alalım, diyelim ki cins ve yaş gibi farklı özelliklere sahip köpeklerin sayısını izlemek istiyorsunuz. Bir liste kullanılırsa, ilk öğe köpeğin cinsini, ikinci öğe ise yaşını temsil edebilir. Diyelim ki 100 farklı köpek var, o zaman hangi elementin hangisi olması gerektiğini nasıl bileceksiniz? Ya bu köpeklere başka özellikler eklemek isterseniz? Bu, organizasyondan yoksundur ve sınıflara olan tam ihtiyaçtır."
   ]
  },
  {
   "cell_type": "code",
   "execution_count": 2,
   "id": "8df83190",
   "metadata": {
    "ExecuteTime": {
     "end_time": "2022-12-23T17:01:51.136705Z",
     "start_time": "2022-12-23T17:01:48.339888Z"
    }
   },
   "outputs": [
    {
     "name": "stdout",
     "output_type": "stream",
     "text": [
      "Köpeğin cinsini giriniz:pitbul\n",
      "pitbul\n",
      "hav hav\n"
     ]
    }
   ],
   "source": [
    "kopegin_cinsi = input(\"Köpeğin cinsini giriniz:\")\n",
    "\n",
    "class Dog:\n",
    "    # A simple class\n",
    "    # attribute\n",
    "    dort_ayak = True\n",
    "    \n",
    "    def __init__(self, kopegin_cinsi):\n",
    "        self.cins = kopegin_cinsi\n",
    "    \n",
    "    \n",
    "    def fun(self):\n",
    "        print(\"hav hav\")\n",
    "        \n",
    "# Driver code\n",
    "# Object instantiation\n",
    "Rodger = Dog(kopegin_cinsi)\n",
    " \n",
    "# Accessing class attributes\n",
    "# and method through objects\n",
    "print(Rodger.cins)\n",
    "Rodger.fun()"
   ]
  },
  {
   "cell_type": "code",
   "execution_count": null,
   "id": "5ea56b00",
   "metadata": {},
   "outputs": [],
   "source": [
    "class Ahtapot():\n",
    "    dort_ayak = False"
   ]
  },
  {
   "cell_type": "code",
   "execution_count": null,
   "id": "535f4d64",
   "metadata": {
    "ExecuteTime": {
     "end_time": "2022-12-17T16:09:07.406932Z",
     "start_time": "2022-12-17T16:09:07.392902Z"
    }
   },
   "outputs": [],
   "source": [
    "class Dog:\n",
    "    # A simple class\n",
    "    # attribute\n",
    "    attr1 = \"animal\"\n",
    "    attr2 = \"dog\"\n",
    "    \n",
    "    # A sample method\n",
    "    def fun(self):\n",
    "        print(\"I'm a\", self.attr1)\n",
    "        print(\"I'm a\", self.attr2)\n",
    "    \n",
    "    # A sample method\n",
    "    def bark(self):\n",
    "        print(\"Hav Hav\")\n",
    "        \n",
    "# Driver code\n",
    "# Object instantiation\n",
    "Rodger = Dog()\n",
    " \n",
    "# Accessing class attributes\n",
    "# and method through objects\n",
    "print(Rodger.attr1)\n",
    "Rodger.fun()\n",
    "Rodger.bark()\n",
    "\n",
    "kangal = Dog()\n",
    "kangal.bark()"
   ]
  },
  {
   "cell_type": "code",
   "execution_count": null,
   "id": "52534984",
   "metadata": {
    "ExecuteTime": {
     "end_time": "2022-12-17T16:13:42.427598Z",
     "start_time": "2022-12-17T16:13:42.418011Z"
    }
   },
   "outputs": [],
   "source": [
    "# Sample class with init method\n",
    "class Person:\n",
    "    \n",
    "    # init method or constructor\n",
    "    def __init__(self, name, age):\n",
    "        self.name = name\n",
    "        self.age = age\n",
    "    \n",
    "    # Sample Method\n",
    "    def say_hi(self):\n",
    "        print(f\"Hello, my name is {self.name}. Ben {self.age} yaşındayım.\")\n",
    "\n",
    "\n",
    "p = Person(\"Nikhil\", 23)\n",
    "p.say_hi()\n",
    "\n",
    "f = Person(\"Furkan\", 21)\n",
    "f.say_hi()"
   ]
  },
  {
   "cell_type": "code",
   "execution_count": null,
   "id": "2b863b2d",
   "metadata": {
    "ExecuteTime": {
     "end_time": "2022-12-17T16:15:59.671184Z",
     "start_time": "2022-12-17T16:15:59.659047Z"
    }
   },
   "outputs": [],
   "source": [
    "class Canli:\n",
    "    def __init__(self):\n",
    "        self.büyüme = True\n",
    "        self.beslenme = True\n",
    "        self.boşaltım = True\n",
    "        self.üreme = True\n",
    "        self.solunum = True\n",
    "        self.hareket = True\n",
    "        self.tepki = True\n",
    "        \n",
    "    def canli(self):\n",
    "        print(\"Ben bir canlıyım.\")\n",
    "        \n",
    "    def __str__(self):\n",
    "        return \"Ben bir canlıyım.\""
   ]
  },
  {
   "cell_type": "code",
   "execution_count": null,
   "id": "6ca07320",
   "metadata": {
    "ExecuteTime": {
     "end_time": "2022-12-17T16:16:00.124148Z",
     "start_time": "2022-12-17T16:16:00.109076Z"
    }
   },
   "outputs": [],
   "source": [
    "class Cansiz:\n",
    "    def __init__(self):\n",
    "        self.büyüme = False\n",
    "        self.beslenme = False\n",
    "        self.boşaltım = False\n",
    "        self.üreme = False\n",
    "        self.solunum = False\n",
    "        self.hareket = False\n",
    "        self.tepki = False"
   ]
  },
  {
   "cell_type": "code",
   "execution_count": null,
   "id": "c5cd4f40",
   "metadata": {
    "ExecuteTime": {
     "end_time": "2022-12-17T16:16:13.327309Z",
     "start_time": "2022-12-17T16:16:13.312148Z"
    }
   },
   "outputs": [],
   "source": [
    "class Hayvan(Canli):\n",
    "    def __init__(self):\n",
    "        self.akil = True\n",
    "        \n",
    "    def hayvan(self):\n",
    "        print(\"Ben bir hayvanım.\")"
   ]
  },
  {
   "cell_type": "code",
   "execution_count": null,
   "id": "4c630dc7",
   "metadata": {
    "ExecuteTime": {
     "end_time": "2022-12-17T16:16:42.646858Z",
     "start_time": "2022-12-17T16:16:42.626831Z"
    }
   },
   "outputs": [],
   "source": [
    "köpek = Hayvan()\n",
    "print(köpek)\n",
    "\n",
    "köpek.canli()\n",
    "köpek.hayvan()\n",
    "\n",
    "print(köpek.akil)"
   ]
  },
  {
   "cell_type": "code",
   "execution_count": null,
   "id": "fcdf7cb2",
   "metadata": {},
   "outputs": [],
   "source": [
    "İnsan(Hayvan(Canli))"
   ]
  },
  {
   "cell_type": "code",
   "execution_count": null,
   "id": "9eb0f776",
   "metadata": {
    "ExecuteTime": {
     "end_time": "2022-12-17T16:20:21.376199Z",
     "start_time": "2022-12-17T16:20:21.362162Z"
    }
   },
   "outputs": [],
   "source": [
    "class İnsan(Hayvan):\n",
    "    def __init__(self, name, age):\n",
    "        self.name = name\n",
    "        self.age = age\n",
    "        \n",
    "    def say_hi(self):\n",
    "        print(\"Hello\")\n",
    "        \n",
    "    def insan(self):\n",
    "        print(\"Ben bir insanım.\")"
   ]
  },
  {
   "cell_type": "code",
   "execution_count": null,
   "id": "eea6fd8c",
   "metadata": {
    "ExecuteTime": {
     "end_time": "2022-12-17T16:20:21.858194Z",
     "start_time": "2022-12-17T16:20:21.847672Z"
    }
   },
   "outputs": [],
   "source": [
    "ahmet = İnsan(\"ahmet\", 23)\n",
    "ahmet.canli()\n",
    "ahmet.hayvan()\n",
    "ahmet.insan()\n",
    "ahmet.say_hi()\n",
    "print(ahmet.name, ahmet.age)"
   ]
  },
  {
   "cell_type": "code",
   "execution_count": 3,
   "id": "2ea0a612",
   "metadata": {
    "ExecuteTime": {
     "end_time": "2022-12-23T17:04:52.691033Z",
     "start_time": "2022-12-23T17:04:52.673028Z"
    }
   },
   "outputs": [
    {
     "name": "stdout",
     "output_type": "stream",
     "text": [
      "Ahmet\n",
      "886012\n",
      "Ahmet 886012 200000 Intern\n"
     ]
    }
   ],
   "source": [
    "\n",
    "# Python code to demonstrate how parent constructors\n",
    "# are called.\n",
    " \n",
    "# parent class\n",
    "class Person(object):\n",
    "    # __init__ is known as the constructor\n",
    "    def __init__(self, name, idnumber):\n",
    "        self.name = name\n",
    "        self.idnumber = idnumber\n",
    "    \n",
    "    def display(self):\n",
    "        print(self.name)\n",
    "        print(self.idnumber)\n",
    "        \n",
    "\n",
    "class Employee(Person):\n",
    "    def __init__(self, name, idnumber, salary, post):\n",
    "        self.salary = salary\n",
    "        self.post = post\n",
    "    \n",
    "    # invoking the __init__ of the parent class\n",
    "        Person.__init__(self, name, idnumber)\n",
    "        \n",
    "        \n",
    "# creation of an object variable or an instance\n",
    "ahmet = Employee('Ahmet', 886012, 200000, \"Intern\")\n",
    " \n",
    "# calling a function of the class Person using its instance\n",
    "ahmet.display()\n",
    "print(ahmet.name, ahmet.idnumber, ahmet.salary, ahmet.post)"
   ]
  },
  {
   "cell_type": "code",
   "execution_count": null,
   "id": "482e069f",
   "metadata": {
    "ExecuteTime": {
     "end_time": "2022-12-17T15:42:19.539831Z",
     "start_time": "2022-12-17T15:42:19.529794Z"
    }
   },
   "outputs": [],
   "source": [
    "class Base(object):\n",
    "    # Constructor\n",
    "    def __init__(self, name):\n",
    "        self.name = name\n",
    "    \n",
    "    # To get name\n",
    "    def getName(self):\n",
    "        return self.name\n",
    "    \n",
    "    \n",
    "# Inherited or Sub class (Note Person in bracket)\n",
    "class Child(Base):\n",
    "    # Constructor\n",
    "    def __init__(self, name, age):\n",
    "        Base.__init__(self, name)\n",
    "        self.age = age\n",
    "    \n",
    "    # To get name\n",
    "    def getAge(self):\n",
    "        return self.age\n",
    "    \n",
    "    \n",
    "class GrandChild(Child):\n",
    "    # Constructor\n",
    "    def __init__(self, name, age, address):\n",
    "        Child.__init__(self, name, age)\n",
    "        self.address = address\n",
    "    \n",
    "    # To get address\n",
    "    def getAddress(self):\n",
    "        return self.address\n",
    "    \n",
    "    \n",
    "# Driver code\n",
    "g = GrandChild(\"Ahmet\", 23, \"İstanbul\")\n",
    "print(g.getName(), g.getAge(), g.getAddress())"
   ]
  },
  {
   "cell_type": "code",
   "execution_count": null,
   "id": "abe8f824",
   "metadata": {
    "ExecuteTime": {
     "end_time": "2022-12-17T16:27:24.424870Z",
     "start_time": "2022-12-17T16:27:24.416837Z"
    }
   },
   "outputs": [],
   "source": [
    "class User(object):\n",
    "    def __init__(self, name, nickname, languages, age):\n",
    "        self.name = name\n",
    "        self.nickname = nickname\n",
    "        self.languages = languages\n",
    "        self.age = age\n",
    "        \n",
    "    def add_language(self, language):\n",
    "        self.languages.append(language)"
   ]
  },
  {
   "cell_type": "code",
   "execution_count": null,
   "id": "dc441287",
   "metadata": {
    "ExecuteTime": {
     "end_time": "2022-12-17T16:28:46.250167Z",
     "start_time": "2022-12-17T16:28:46.233654Z"
    }
   },
   "outputs": [],
   "source": [
    "new_user1213 = User(\"Ahmet\", \"new_user1213\", [\"en\", \"tr\"], 23)"
   ]
  },
  {
   "cell_type": "code",
   "execution_count": null,
   "id": "5cc8ae27",
   "metadata": {
    "ExecuteTime": {
     "end_time": "2022-12-17T16:28:48.026679Z",
     "start_time": "2022-12-17T16:28:48.015157Z"
    }
   },
   "outputs": [],
   "source": [
    "new_user1213.languages"
   ]
  },
  {
   "cell_type": "code",
   "execution_count": null,
   "id": "7bab177c",
   "metadata": {
    "ExecuteTime": {
     "end_time": "2022-12-17T16:29:06.552018Z",
     "start_time": "2022-12-17T16:29:06.534819Z"
    }
   },
   "outputs": [],
   "source": [
    "new_user1213.add_language(\"fr\")"
   ]
  },
  {
   "cell_type": "code",
   "execution_count": null,
   "id": "7df11bfc",
   "metadata": {
    "ExecuteTime": {
     "end_time": "2022-12-17T16:29:08.517196Z",
     "start_time": "2022-12-17T16:29:08.504677Z"
    }
   },
   "outputs": [],
   "source": [
    "new_user1213.languages"
   ]
  },
  {
   "cell_type": "code",
   "execution_count": null,
   "id": "81a09476",
   "metadata": {
    "ExecuteTime": {
     "end_time": "2022-12-17T16:30:49.922323Z",
     "start_time": "2022-12-17T16:30:49.896312Z"
    }
   },
   "outputs": [],
   "source": [
    "new_user1213.role"
   ]
  },
  {
   "cell_type": "code",
   "execution_count": null,
   "id": "8341a047",
   "metadata": {
    "ExecuteTime": {
     "end_time": "2022-12-17T16:30:27.946147Z",
     "start_time": "2022-12-17T16:30:27.935632Z"
    }
   },
   "outputs": [],
   "source": [
    "class Admin(User):\n",
    "    def __init__(self, name, nickname, languages, age):\n",
    "        self.role = \"Admin\"\n",
    "        User.__init__(self, name, nickname, languages, age)"
   ]
  },
  {
   "cell_type": "code",
   "execution_count": null,
   "id": "8e4c24ac",
   "metadata": {
    "ExecuteTime": {
     "end_time": "2022-12-17T16:30:36.435567Z",
     "start_time": "2022-12-17T16:30:36.422350Z"
    }
   },
   "outputs": [],
   "source": [
    "Furkan = Admin(\"Furkan\", \"admin1\", [\"en\", \"tr\", \"fr\"], 21)"
   ]
  },
  {
   "cell_type": "code",
   "execution_count": null,
   "id": "e63af626",
   "metadata": {
    "ExecuteTime": {
     "end_time": "2022-12-17T16:30:36.910642Z",
     "start_time": "2022-12-17T16:30:36.895591Z"
    }
   },
   "outputs": [],
   "source": [
    "Furkan.role"
   ]
  },
  {
   "cell_type": "code",
   "execution_count": null,
   "id": "1f18d13c",
   "metadata": {
    "ExecuteTime": {
     "end_time": "2022-12-17T16:31:08.041261Z",
     "start_time": "2022-12-17T16:31:08.030136Z"
    }
   },
   "outputs": [],
   "source": [
    "Furkan.age"
   ]
  },
  {
   "cell_type": "markdown",
   "id": "6e7fba62",
   "metadata": {},
   "source": [
    "# Nesneye Yönelik Programlama\n",
    "\n",
    "• Encapsulation\n",
    "• Inheritance\n",
    "• Polymorphism\n",
    "• Abstraction\n",
    "\n",
    "- Encapsulation (sarma) NYP’nin temel kavramlarından biridir. Genel tanımıyla kullanıcı tarafından verilerin, sınıfların ve metotların ne kadarının görüntülenebileceği ve değiştirilebileceğinin sınırlarının konulmasını sağlar. \n",
    "\n",
    "- Inheritance (kalıtım) bir sınıftan başka bir sınıf türetirken aralarında bir alt-üst ilişkisi oluşturmayı ve bu sınıflar üzerinde ortak metotlar ve özellikler kullanılmasını sağlayan bir mekanizmadır.\n",
    "\n",
    "- Polymorphism (çok biçimlilik) NYP'de programlama dilinin farklı tip verileri ve sınıfları farklı şekilde işleme yeteneğini belirten özelliğidir. Daha belirgin olmak gerekirse, metotları ve türetilmiş sınıfları yeniden tanımlama yeteneğidir.\n",
    "\n",
    "- Abstraction (soyutlama) NYP’nin temel kavramlarından biridir. Alt sınıfların ortak özelliklerini ve işlevlerini taşıyan ancak henüz bir nesnesi olmayan bir üst sınıf oluşturmak istenirse bir soyut (abstract) üst sınıf oluşturulur. "
   ]
  },
  {
   "cell_type": "code",
   "execution_count": 1,
   "id": "1957a10a",
   "metadata": {
    "ExecuteTime": {
     "end_time": "2022-12-17T16:43:02.824053Z",
     "start_time": "2022-12-17T16:43:02.805403Z"
    }
   },
   "outputs": [],
   "source": [
    "class User():\n",
    "    def __init__(self, name, e_mail, faculty):\n",
    "        self.name = name\n",
    "        self.e_mail = e_mail\n",
    "        self.faculty = faculty\n",
    "        \n",
    "    def welcome(self):\n",
    "        print(\"Welcome \", self.name)\n",
    "        \n",
    "    def display(self):\n",
    "        print(self.name, self.e_mail, self.faculty)\n",
    "        \n",
    "    def profile(self):\n",
    "        print(self.name, self.faculty)"
   ]
  },
  {
   "cell_type": "code",
   "execution_count": 4,
   "id": "55616ad0",
   "metadata": {
    "ExecuteTime": {
     "end_time": "2022-12-17T16:43:17.919432Z",
     "start_time": "2022-12-17T16:43:17.912412Z"
    }
   },
   "outputs": [],
   "source": [
    "furkan = User(\"furkan\", \"furkan.erdi@ogr.gsu.edu.tr\", \"Mühendislik\")"
   ]
  },
  {
   "cell_type": "code",
   "execution_count": 5,
   "id": "977cfddd",
   "metadata": {
    "ExecuteTime": {
     "end_time": "2022-12-17T16:43:18.153246Z",
     "start_time": "2022-12-17T16:43:18.146115Z"
    }
   },
   "outputs": [
    {
     "name": "stdout",
     "output_type": "stream",
     "text": [
      "Welcome  furkan\n"
     ]
    }
   ],
   "source": [
    "furkan.welcome()"
   ]
  },
  {
   "cell_type": "code",
   "execution_count": 3,
   "id": "b940d909",
   "metadata": {
    "ExecuteTime": {
     "end_time": "2022-12-17T16:43:06.255655Z",
     "start_time": "2022-12-17T16:43:06.232017Z"
    }
   },
   "outputs": [
    {
     "ename": "NameError",
     "evalue": "name 'furkan' is not defined",
     "output_type": "error",
     "traceback": [
      "\u001b[1;31m---------------------------------------------------------------------------\u001b[0m",
      "\u001b[1;31mNameError\u001b[0m                                 Traceback (most recent call last)",
      "Input \u001b[1;32mIn [3]\u001b[0m, in \u001b[0;36m<cell line: 1>\u001b[1;34m()\u001b[0m\n\u001b[1;32m----> 1\u001b[0m \u001b[43mfurkan\u001b[49m\u001b[38;5;241m.\u001b[39mbio\n",
      "\u001b[1;31mNameError\u001b[0m: name 'furkan' is not defined"
     ]
    }
   ],
   "source": [
    "furkan.bio"
   ]
  },
  {
   "cell_type": "code",
   "execution_count": null,
   "id": "5ad91170",
   "metadata": {
    "ExecuteTime": {
     "end_time": "2022-12-17T16:40:06.750133Z",
     "start_time": "2022-12-17T16:40:06.739654Z"
    }
   },
   "outputs": [],
   "source": [
    "furkan.display()"
   ]
  },
  {
   "cell_type": "code",
   "execution_count": null,
   "id": "343c0f23",
   "metadata": {
    "ExecuteTime": {
     "end_time": "2022-12-17T16:40:32.238274Z",
     "start_time": "2022-12-17T16:40:32.224822Z"
    }
   },
   "outputs": [],
   "source": [
    "furkan.profile()"
   ]
  },
  {
   "cell_type": "code",
   "execution_count": 8,
   "id": "3571e80d",
   "metadata": {
    "ExecuteTime": {
     "end_time": "2022-12-17T16:47:30.780600Z",
     "start_time": "2022-12-17T16:47:30.771527Z"
    }
   },
   "outputs": [
    {
     "name": "stdout",
     "output_type": "stream",
     "text": [
      "dsfjkjsfk@gma\n",
      "sdads@sad\n",
      "dasdas@ads\n",
      "dsadas@asd\n"
     ]
    }
   ],
   "source": [
    "isimler = [\"furkan\", \"ahmet\", \"mehmet\", \"ali\"]\n",
    "e_postalar = [\"dsfjkjsfk@gma\", \"sdads@sad\", \"dasdas@ads\", \"dsadas@asd\"]\n",
    "fakülteler = [\"mühendislik\", \"işletme\", \"hukuk\", \"yabancı diller\"]\n",
    "\n",
    "for i in range(len(isimler)):\n",
    "    a = User(isimler[i], e_postalar[i], fakülteler[i])\n",
    "    print(a.e_mail)"
   ]
  },
  {
   "cell_type": "code",
   "execution_count": null,
   "id": "d636fb6b",
   "metadata": {},
   "outputs": [],
   "source": []
  }
 ],
 "metadata": {
  "kernelspec": {
   "display_name": "Python 3 (ipykernel)",
   "language": "python",
   "name": "python3"
  },
  "language_info": {
   "codemirror_mode": {
    "name": "ipython",
    "version": 3
   },
   "file_extension": ".py",
   "mimetype": "text/x-python",
   "name": "python",
   "nbconvert_exporter": "python",
   "pygments_lexer": "ipython3",
   "version": "3.10.7"
  }
 },
 "nbformat": 4,
 "nbformat_minor": 5
}
